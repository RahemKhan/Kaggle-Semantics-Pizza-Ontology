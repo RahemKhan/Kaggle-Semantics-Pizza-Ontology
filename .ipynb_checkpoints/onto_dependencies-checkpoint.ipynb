{
 "cells": [
  {
   "cell_type": "code",
   "execution_count": 4,
   "id": "e00a60d4",
   "metadata": {},
   "outputs": [],
   "source": [
    "from SWKG_mansib import KnowledgeGraphTabData"
   ]
  },
  {
   "cell_type": "code",
   "execution_count": 7,
   "id": "825cb1b9",
   "metadata": {},
   "outputs": [
    {
     "name": "stdout",
     "output_type": "stream",
     "text": [
      "Data triples from CSV: '2681'.\n",
      "Triples including ontology: '3504'.\n",
      "Triples after OWL 2 RL reasoning: '14135'.\n"
     ]
    }
   ],
   "source": [
    "file = \"./IN3067-INM713_coursework_data_pizza_500.csv\"\n",
    "dependencies_task = KnowledgeGraphTabData(file)\n",
    "dependencies_task.__init__(file)\n",
    "\n",
    "#Solution task 1\n",
    "task = \"task1\"\n",
    "#Solution task 1\n",
    "\n",
    "#task = \"task2\"\n",
    "\n",
    "#Instead of having several small mappings the transformation is done using a single function or mapping\n",
    "#task = \"Simple_Mapping\"\n",
    "    \n",
    "#Create RDF triples\n",
    "if task == \"task1\":\n",
    "    dependencies_task.Task1()  #Fresh entity URIs\n",
    "#elif task == \"task2\":\n",
    "#    dependecies_task.Task2()  #Reusing URIs from DBPedia\n",
    "        \n",
    "    \n",
    "#Graph with only data\n",
    "dependencies_task.saveGraph(file.replace(\".csv\", \"-\"+task)+\".ttl\")\n",
    "    \n",
    "#OWL 2 RL reasoning\n",
    "#We will see reasoning next week. Not strictly necessary for this \n",
    "dependencies_task.performReasoning(\"../cw_onto.ttl\") ##ttl format\n",
    "    \n",
    "#Graph with ontology triples and entailed triples       \n",
    "dependencies_task.saveGraph(file.replace(\".csv\", \"-\"+task)+\"-reasoning.ttl\")\n",
    "    \n",
    "#SPARQL results into CSV\n",
    "#dependecies_task.performSPARQLQuery(file.replace(\".csv\", \"-\"+task)+\"-query-results.csv\")"
   ]
  },
  {
   "cell_type": "code",
   "execution_count": null,
   "id": "4790c27d",
   "metadata": {},
   "outputs": [],
   "source": []
  }
 ],
 "metadata": {
  "kernelspec": {
   "display_name": "Python 3 (ipykernel)",
   "language": "python",
   "name": "python3"
  },
  "language_info": {
   "codemirror_mode": {
    "name": "ipython",
    "version": 3
   },
   "file_extension": ".py",
   "mimetype": "text/x-python",
   "name": "python",
   "nbconvert_exporter": "python",
   "pygments_lexer": "ipython3",
   "version": "3.9.7"
  }
 },
 "nbformat": 4,
 "nbformat_minor": 5
}
