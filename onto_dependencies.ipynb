{
 "cells": [
  {
   "cell_type": "code",
   "execution_count": 50,
   "id": "11b1851e",
   "metadata": {},
   "outputs": [
    {
     "name": "stdout",
     "output_type": "stream",
     "text": [
      "Requirement already satisfied: owlready2 in c:\\users\\mvnsi\\anaconda3\\lib\\site-packages (0.37)\n",
      "Note: you may need to restart the kernel to use updated packages.\n"
     ]
    }
   ],
   "source": [
    "pip install owlready2"
   ]
  },
  {
   "cell_type": "code",
   "execution_count": 51,
   "id": "e00a60d4",
   "metadata": {},
   "outputs": [],
   "source": [
    "from owlready2 import *\n",
    "import csv\n",
    "from rdflib import Graph\n",
    "import owlrl\n",
    "from rdflib.namespace import OWL, URIRef\n",
    "from rdflib.util import guess_format\n",
    "from TripleGenerator import TripleGeneratingClass"
   ]
  },
  {
   "cell_type": "markdown",
   "id": "7ae6ff6f",
   "metadata": {},
   "source": [
    "# Task 2.2"
   ]
  },
  {
   "cell_type": "markdown",
   "id": "8612fc9e",
   "metadata": {},
   "source": [
    "##### In Reference to Lab 5 - https://github.com/city-knowledge-graphs/python-2022/tree/main/lab5"
   ]
  },
  {
   "cell_type": "code",
   "execution_count": 52,
   "id": "825cb1b9",
   "metadata": {},
   "outputs": [
    {
     "name": "stdout",
     "output_type": "stream",
     "text": [
      "Data triples from CSV: '7044'.\n",
      "Triples including ontology: '7306'.\n",
      "Triples after OWL 2 RL reasoning: '35446'.\n"
     ]
    }
   ],
   "source": [
    "\n",
    "file = \"./IN3067-INM713_coursework_data_pizza_500.csv\"\n",
    "queryfile = \"./Results/\"\n",
    "dependecies_task = TripleGeneratingClass(file)\n",
    "\n",
    "#without URI\n",
    "task = \"task1\"\n",
    "#with external URI\n",
    "# task = \"task2\"\n",
    "   \n",
    "#Create RDF triples\n",
    "if task == \"task1\":\n",
    "   dependecies_task.Task1()  #Fresh entity URIs\n",
    "if task == \"task2\":\n",
    "  dependecies_task.Task2()  #Reusing URIs from DBPedia\n",
    "        \n",
    "    \n",
    "#Graph with only data\n",
    "#Generated RDF data (turtle format)\n",
    "\n",
    "dependecies_task.saveGraph(file.replace(\".csv\", \"-\"+task)+\".ttl\")\n",
    "    \n",
    "#OWL 2 RL reasoning\n",
    "\n",
    "dependecies_task.performReasoning(\"./cw_onto.ttl\") ##ttl format\n",
    "    \n",
    "#Graph with ontology triples and entailed triples\n",
    "#Extended RDF data 1 after reasoning (turtle format)       \n",
    "dependecies_task.saveGraph(file.replace(\".csv\", \"-\"+task)+\"-reasoning.ttl\") "
   ]
  },
  {
   "cell_type": "markdown",
   "id": "715dd633",
   "metadata": {},
   "source": [
    "# Task 2.3"
   ]
  },
  {
   "cell_type": "markdown",
   "id": "1a910263",
   "metadata": {},
   "source": [
    "### Hawaiian Pizza Query"
   ]
  },
  {
   "cell_type": "code",
   "execution_count": 53,
   "id": "67ff3faa",
   "metadata": {},
   "outputs": [],
   "source": [
    "def SPARQLQuery_SubTask_1(file_query_out):\n",
    "\n",
    "        qres = dependecies_task.g.query(\n",
    "            \"\"\"\n",
    "            PREFIX rdf: <http://www.w3.org/1999/02/22-rdf-syntax-ns#>\n",
    "            PREFIX cw: <http://www.semanticweb.org/in3067-inm713/restaurants#>\n",
    "            SELECT DISTINCT  ?name ?itemName ?address ?postcode ?city ?state ?country WHERE { \n",
    "                ?Restaurant rdf:type cw:Restaurant .\n",
    "                ?Restaurant cw:itemName ?itemName .\n",
    "                ?Restaurant cw:restaurantName ?name.\n",
    "                ?Restaurant cw:firstLineAddress ?address .\n",
    "                ?Restaurant cw:postCode ?postcode .\n",
    "                ?Restaurant cw:City ?city .\n",
    "                ?Restaurant cw:State ?state .\n",
    "                ?Restaurant cw:Country ?country\n",
    "            \n",
    "                FILTER REGEX(?itemName, \"hawaii\", \"i\")\n",
    "            }\n",
    "            \"\"\"\n",
    "        )\n",
    "        print(\"%s capitals satisfying the query.\" % (str(len(qres))))\n",
    "\n",
    "        #f_out = open(file_query_out,\"w+\")\n",
    "        header = ['Restaurant Name', 'Item', 'Address', 'Post Code', 'City', 'State', 'Country']\n",
    "\n",
    "        with open(file_query_out,\"w\", encoding=\"UTF-8\") as f:\n",
    "            writeQuery = csv.writer(f)\n",
    "            writeQuery.writerow(header)\n",
    "\n",
    "            for row in qres:\n",
    "                #Row is a list of matched RDF terms: URIs, literals or blank nodes\n",
    "                line_str = [row.name, row.itemName, row.address, row.postcode, row.city, row.state, row.country]\n",
    "                print(line_str)\n",
    "\n",
    "                writeQuery.writerow(line_str)"
   ]
  },
  {
   "cell_type": "code",
   "execution_count": 8,
   "id": "1dc9f7c4",
   "metadata": {},
   "outputs": [
    {
     "name": "stdout",
     "output_type": "stream",
     "text": [
      "7 capitals satisfying the query.\n",
      "[rdflib.term.Literal('Bravo Pizza Hollywood', datatype=rdflib.term.URIRef('http://www.w3.org/2001/XMLSchema#string')), rdflib.term.Literal('Hawaiian Pizza', datatype=rdflib.term.URIRef('http://www.w3.org/2001/XMLSchema#string')), rdflib.term.Literal('5142 Hollywood Blvd', datatype=rdflib.term.URIRef('http://www.w3.org/2001/XMLSchema#string')), rdflib.term.Literal('90027.0', datatype=rdflib.term.URIRef('http://www.w3.org/2001/XMLSchema#string')), rdflib.term.Literal('Los Angeles', datatype=rdflib.term.URIRef('http://www.w3.org/2001/XMLSchema#string')), rdflib.term.Literal('Los Feliz', datatype=rdflib.term.URIRef('http://www.w3.org/2001/XMLSchema#string')), rdflib.term.Literal('US', datatype=rdflib.term.URIRef('http://www.w3.org/2001/XMLSchema#string'))]\n",
      "[rdflib.term.Literal(\"Giovanni's Pizza and Pasta\", datatype=rdflib.term.URIRef('http://www.w3.org/2001/XMLSchema#string')), rdflib.term.Literal('Hawaiin Pizza', datatype=rdflib.term.URIRef('http://www.w3.org/2001/XMLSchema#string')), rdflib.term.Literal('26900 Newport Rd', datatype=rdflib.term.URIRef('http://www.w3.org/2001/XMLSchema#string')), rdflib.term.Literal('92584.0', datatype=rdflib.term.URIRef('http://www.w3.org/2001/XMLSchema#string')), rdflib.term.Literal('Menifee', datatype=rdflib.term.URIRef('http://www.w3.org/2001/XMLSchema#string')), rdflib.term.Literal('CA', datatype=rdflib.term.URIRef('http://www.w3.org/2001/XMLSchema#string')), rdflib.term.Literal('US', datatype=rdflib.term.URIRef('http://www.w3.org/2001/XMLSchema#string'))]\n",
      "[rdflib.term.Literal(\"Riccardo's Pizza\", datatype=rdflib.term.URIRef('http://www.w3.org/2001/XMLSchema#string')), rdflib.term.Literal('Hawaiian Pizza', datatype=rdflib.term.URIRef('http://www.w3.org/2001/XMLSchema#string')), rdflib.term.Literal('522 Saddle River Rd', datatype=rdflib.term.URIRef('http://www.w3.org/2001/XMLSchema#string')), rdflib.term.Literal('7663.0', datatype=rdflib.term.URIRef('http://www.w3.org/2001/XMLSchema#string')), rdflib.term.Literal('Saddle Brook', datatype=rdflib.term.URIRef('http://www.w3.org/2001/XMLSchema#string')), rdflib.term.Literal('NJ', datatype=rdflib.term.URIRef('http://www.w3.org/2001/XMLSchema#string')), rdflib.term.Literal('US', datatype=rdflib.term.URIRef('http://www.w3.org/2001/XMLSchema#string'))]\n",
      "[rdflib.term.Literal('Milanos Pizza', datatype=rdflib.term.URIRef('http://www.w3.org/2001/XMLSchema#string')), rdflib.term.Literal('Hawaiian Pizza', datatype=rdflib.term.URIRef('http://www.w3.org/2001/XMLSchema#string')), rdflib.term.Literal('9822 Libra Ave', datatype=rdflib.term.URIRef('http://www.w3.org/2001/XMLSchema#string')), rdflib.term.Literal('95827.0', datatype=rdflib.term.URIRef('http://www.w3.org/2001/XMLSchema#string')), rdflib.term.Literal('Sacramento', datatype=rdflib.term.URIRef('http://www.w3.org/2001/XMLSchema#string')), rdflib.term.Literal('CA', datatype=rdflib.term.URIRef('http://www.w3.org/2001/XMLSchema#string')), rdflib.term.Literal('US', datatype=rdflib.term.URIRef('http://www.w3.org/2001/XMLSchema#string'))]\n",
      "[rdflib.term.Literal('The Fire Den', datatype=rdflib.term.URIRef('http://www.w3.org/2001/XMLSchema#string')), rdflib.term.Literal('Hawaiian Pizza', datatype=rdflib.term.URIRef('http://www.w3.org/2001/XMLSchema#string')), rdflib.term.Literal('1231 Park St', datatype=rdflib.term.URIRef('http://www.w3.org/2001/XMLSchema#string')), rdflib.term.Literal('94501.0', datatype=rdflib.term.URIRef('http://www.w3.org/2001/XMLSchema#string')), rdflib.term.Literal('Alameda', datatype=rdflib.term.URIRef('http://www.w3.org/2001/XMLSchema#string')), rdflib.term.Literal('CA', datatype=rdflib.term.URIRef('http://www.w3.org/2001/XMLSchema#string')), rdflib.term.Literal('US', datatype=rdflib.term.URIRef('http://www.w3.org/2001/XMLSchema#string'))]\n",
      "[rdflib.term.Literal('Steinway Pizza', datatype=rdflib.term.URIRef('http://www.w3.org/2001/XMLSchema#string')), rdflib.term.Literal('Hawaiian Pizza', datatype=rdflib.term.URIRef('http://www.w3.org/2001/XMLSchema#string')), rdflib.term.Literal('3151 Steinway St', datatype=rdflib.term.URIRef('http://www.w3.org/2001/XMLSchema#string')), rdflib.term.Literal('11103.0', datatype=rdflib.term.URIRef('http://www.w3.org/2001/XMLSchema#string')), rdflib.term.Literal('Astoria', datatype=rdflib.term.URIRef('http://www.w3.org/2001/XMLSchema#string')), rdflib.term.Literal('Queens', datatype=rdflib.term.URIRef('http://www.w3.org/2001/XMLSchema#string')), rdflib.term.Literal('US', datatype=rdflib.term.URIRef('http://www.w3.org/2001/XMLSchema#string'))]\n",
      "[rdflib.term.Literal('Mellow Mushroom Pizza Bakers', datatype=rdflib.term.URIRef('http://www.w3.org/2001/XMLSchema#string')), rdflib.term.Literal('Hawaiian Pizza', datatype=rdflib.term.URIRef('http://www.w3.org/2001/XMLSchema#string')), rdflib.term.Literal('1201 16th St', datatype=rdflib.term.URIRef('http://www.w3.org/2001/XMLSchema#string')), rdflib.term.Literal('80202.0', datatype=rdflib.term.URIRef('http://www.w3.org/2001/XMLSchema#string')), rdflib.term.Literal('Denver', datatype=rdflib.term.URIRef('http://www.w3.org/2001/XMLSchema#string')), rdflib.term.Literal('CO', datatype=rdflib.term.URIRef('http://www.w3.org/2001/XMLSchema#string')), rdflib.term.Literal('US', datatype=rdflib.term.URIRef('http://www.w3.org/2001/XMLSchema#string'))]\n"
     ]
    }
   ],
   "source": [
    "#CSV files created in Task SPARQL (csv format).\n",
    "SPARQLQuery_SubTask_1(queryfile.replace(\".csv\", \"-\"+task)+\"query-results-hawaiianpizza.csv\")"
   ]
  },
  {
   "cell_type": "markdown",
   "id": "b3b2fbf0",
   "metadata": {},
   "source": [
    "### Average Price without Tomatoes"
   ]
  },
  {
   "cell_type": "code",
   "execution_count": 9,
   "id": "41f00abb",
   "metadata": {},
   "outputs": [],
   "source": [
    "def SPARQLQuery_SubTask_2(file_query_out):\n",
    "\n",
    "        qres = dependecies_task.g.query(\n",
    "            \"\"\"\n",
    "            PREFIX rdf: <http://www.w3.org/1999/02/22-rdf-syntax-ns#>\n",
    "            PREFIX cw: <http://www.semanticweb.org/in3067-inm713/restaurants#>\n",
    "            SELECT DISTINCT (AVG(?price) AS ?value_avg) WHERE { \n",
    "                \n",
    "                ?food rdf:type cw:MenuItem .\n",
    "                ?food cw:amount ?price .\n",
    "                ?food cw:itemName ?pizzaName .\n",
    "                ?food cw:name ?itemDesc\n",
    "                \n",
    "                FILTER NOT EXISTS {\n",
    "                    FILTER regex(?itemDesc, \"tomat\", \"i\")\n",
    "                    #FILTER regex(?price, \"NaN\", \"i\")\n",
    "                }\n",
    "            } \n",
    "            \"\"\"\n",
    "        )\n",
    "        print(\"%s capitals satisfying the query.\" % (str(len(qres))))\n",
    "\n",
    "        #f_out = open(file_query_out,\"w+\")\n",
    "        header = ['Average Value']\n",
    "\n",
    "        with open(file_query_out,\"w\", encoding=\"UTF-8\") as f:\n",
    "            writeQuery = csv.writer(f)\n",
    "            writeQuery.writerow(header)\n",
    "\n",
    "            for row in qres:\n",
    "                #Row is a list of matched RDF terms: URIs, literals or blank nodes\n",
    "                line_str = [row.value_avg]\n",
    "                print(line_str)\n",
    "\n",
    "                writeQuery.writerow(line_str)"
   ]
  },
  {
   "cell_type": "code",
   "execution_count": 10,
   "id": "fedb3dff",
   "metadata": {},
   "outputs": [
    {
     "name": "stdout",
     "output_type": "stream",
     "text": [
      "1 capitals satisfying the query.\n",
      "[rdflib.term.Literal('12.434967234600204', datatype=rdflib.term.URIRef('http://www.w3.org/2001/XMLSchema#double'))]\n"
     ]
    }
   ],
   "source": [
    "##CSV files created in Task SPARQL (csv format).\n",
    "SPARQLQuery_SubTask_2(queryfile.replace(\".csv\", \"-\"+task)+\"query-results-averagevalue.csv\")"
   ]
  },
  {
   "cell_type": "markdown",
   "id": "daa85acf",
   "metadata": {},
   "source": [
    "### Number of restaurants by City"
   ]
  },
  {
   "cell_type": "code",
   "execution_count": 11,
   "id": "dddf2205",
   "metadata": {},
   "outputs": [],
   "source": [
    "def SPARQLQuery_SubTask_3(file_query_out):\n",
    "\n",
    "        qres = dependecies_task.g.query(\n",
    "            \"\"\"\n",
    "            PREFIX rdf: <http://www.w3.org/1999/02/22-rdf-syntax-ns#>\n",
    "            PREFIX cw: <http://www.semanticweb.org/in3067-inm713/restaurants#>\n",
    "            SELECT DISTINCT ?city ?state (COUNT(*) AS ?count_city)  WHERE { \n",
    "                ?Restaurant rdf:type cw:Restaurant .\n",
    "                \n",
    "                ?Restaurant cw:City ?city .\n",
    "                ?Restaurant cw:State ?state .\n",
    "                ?Restaurant cw:hasCity ?count_city .\n",
    "                ?Restaurant cw:hasState ?count_state\n",
    "                \n",
    "            }\n",
    "            GROUP BY ?city ?state\n",
    "            ORDER BY ASC(?state) ASC(?count_city)\n",
    "            \"\"\"\n",
    "        )\n",
    "        print(\"%s capitals satisfying the query.\" % (str(len(qres))))\n",
    "\n",
    "        #f_out = open(file_query_out,\"w+\")\n",
    "        header = ['City', 'State', 'Number of Restaurants']\n",
    "\n",
    "        with open(file_query_out,\"w\", encoding=\"UTF-8\") as f:\n",
    "            writeQuery = csv.writer(f)\n",
    "            writeQuery.writerow(header)\n",
    "\n",
    "            for row in qres:\n",
    "                #Row is a list of matched RDF terms: URIs, literals or blank nodes\n",
    "                line_str = [row.city, row.state , row.count_city]\n",
    "                print(line_str)\n",
    "\n",
    "                writeQuery.writerow(line_str)"
   ]
  },
  {
   "cell_type": "code",
   "execution_count": 12,
   "id": "30f55db6",
   "metadata": {},
   "outputs": [
    {
     "name": "stdout",
     "output_type": "stream",
     "text": [
      "144 capitals satisfying the query.\n",
      "[rdflib.term.Literal('Fairbanks', datatype=rdflib.term.URIRef('http://www.w3.org/2001/XMLSchema#string')), rdflib.term.Literal('AK', datatype=rdflib.term.URIRef('http://www.w3.org/2001/XMLSchema#string')), rdflib.term.Literal('1', datatype=rdflib.term.URIRef('http://www.w3.org/2001/XMLSchema#integer'))]\n",
      "[rdflib.term.Literal('Phoenix', datatype=rdflib.term.URIRef('http://www.w3.org/2001/XMLSchema#string')), rdflib.term.Literal('AZ', datatype=rdflib.term.URIRef('http://www.w3.org/2001/XMLSchema#string')), rdflib.term.Literal('1', datatype=rdflib.term.URIRef('http://www.w3.org/2001/XMLSchema#integer'))]\n",
      "[rdflib.term.Literal('Chandler', datatype=rdflib.term.URIRef('http://www.w3.org/2001/XMLSchema#string')), rdflib.term.Literal('AZ', datatype=rdflib.term.URIRef('http://www.w3.org/2001/XMLSchema#string')), rdflib.term.Literal('1', datatype=rdflib.term.URIRef('http://www.w3.org/2001/XMLSchema#integer'))]\n",
      "[rdflib.term.Literal('Hammonton', datatype=rdflib.term.URIRef('http://www.w3.org/2001/XMLSchema#string')), rdflib.term.Literal('Blue Anchor', datatype=rdflib.term.URIRef('http://www.w3.org/2001/XMLSchema#string')), rdflib.term.Literal('1', datatype=rdflib.term.URIRef('http://www.w3.org/2001/XMLSchema#integer'))]\n",
      "[rdflib.term.Literal('Los Angeles', datatype=rdflib.term.URIRef('http://www.w3.org/2001/XMLSchema#string')), rdflib.term.Literal('Brentwood', datatype=rdflib.term.URIRef('http://www.w3.org/2001/XMLSchema#string')), rdflib.term.Literal('1', datatype=rdflib.term.URIRef('http://www.w3.org/2001/XMLSchema#integer'))]\n",
      "[rdflib.term.Literal('San Jose', datatype=rdflib.term.URIRef('http://www.w3.org/2001/XMLSchema#string')), rdflib.term.Literal('CA', datatype=rdflib.term.URIRef('http://www.w3.org/2001/XMLSchema#string')), rdflib.term.Literal('1', datatype=rdflib.term.URIRef('http://www.w3.org/2001/XMLSchema#integer'))]\n",
      "[rdflib.term.Literal('Menifee', datatype=rdflib.term.URIRef('http://www.w3.org/2001/XMLSchema#string')), rdflib.term.Literal('CA', datatype=rdflib.term.URIRef('http://www.w3.org/2001/XMLSchema#string')), rdflib.term.Literal('1', datatype=rdflib.term.URIRef('http://www.w3.org/2001/XMLSchema#integer'))]\n",
      "[rdflib.term.Literal('Tracy', datatype=rdflib.term.URIRef('http://www.w3.org/2001/XMLSchema#string')), rdflib.term.Literal('CA', datatype=rdflib.term.URIRef('http://www.w3.org/2001/XMLSchema#string')), rdflib.term.Literal('1', datatype=rdflib.term.URIRef('http://www.w3.org/2001/XMLSchema#integer'))]\n",
      "[rdflib.term.Literal('Hermosa Beach', datatype=rdflib.term.URIRef('http://www.w3.org/2001/XMLSchema#string')), rdflib.term.Literal('CA', datatype=rdflib.term.URIRef('http://www.w3.org/2001/XMLSchema#string')), rdflib.term.Literal('1', datatype=rdflib.term.URIRef('http://www.w3.org/2001/XMLSchema#integer'))]\n",
      "[rdflib.term.Literal('Santa Cruz', datatype=rdflib.term.URIRef('http://www.w3.org/2001/XMLSchema#string')), rdflib.term.Literal('CA', datatype=rdflib.term.URIRef('http://www.w3.org/2001/XMLSchema#string')), rdflib.term.Literal('1', datatype=rdflib.term.URIRef('http://www.w3.org/2001/XMLSchema#integer'))]\n",
      "[rdflib.term.Literal('Laguna Niguel', datatype=rdflib.term.URIRef('http://www.w3.org/2001/XMLSchema#string')), rdflib.term.Literal('CA', datatype=rdflib.term.URIRef('http://www.w3.org/2001/XMLSchema#string')), rdflib.term.Literal('1', datatype=rdflib.term.URIRef('http://www.w3.org/2001/XMLSchema#integer'))]\n",
      "[rdflib.term.Literal('Sacramento', datatype=rdflib.term.URIRef('http://www.w3.org/2001/XMLSchema#string')), rdflib.term.Literal('CA', datatype=rdflib.term.URIRef('http://www.w3.org/2001/XMLSchema#string')), rdflib.term.Literal('1', datatype=rdflib.term.URIRef('http://www.w3.org/2001/XMLSchema#integer'))]\n",
      "[rdflib.term.Literal('San Diego', datatype=rdflib.term.URIRef('http://www.w3.org/2001/XMLSchema#string')), rdflib.term.Literal('CA', datatype=rdflib.term.URIRef('http://www.w3.org/2001/XMLSchema#string')), rdflib.term.Literal('1', datatype=rdflib.term.URIRef('http://www.w3.org/2001/XMLSchema#integer'))]\n",
      "[rdflib.term.Literal('Alameda', datatype=rdflib.term.URIRef('http://www.w3.org/2001/XMLSchema#string')), rdflib.term.Literal('CA', datatype=rdflib.term.URIRef('http://www.w3.org/2001/XMLSchema#string')), rdflib.term.Literal('1', datatype=rdflib.term.URIRef('http://www.w3.org/2001/XMLSchema#integer'))]\n",
      "[rdflib.term.Literal('Fresno', datatype=rdflib.term.URIRef('http://www.w3.org/2001/XMLSchema#string')), rdflib.term.Literal('CA', datatype=rdflib.term.URIRef('http://www.w3.org/2001/XMLSchema#string')), rdflib.term.Literal('1', datatype=rdflib.term.URIRef('http://www.w3.org/2001/XMLSchema#integer'))]\n",
      "[rdflib.term.Literal('Irvine', datatype=rdflib.term.URIRef('http://www.w3.org/2001/XMLSchema#string')), rdflib.term.Literal('CA', datatype=rdflib.term.URIRef('http://www.w3.org/2001/XMLSchema#string')), rdflib.term.Literal('1', datatype=rdflib.term.URIRef('http://www.w3.org/2001/XMLSchema#integer'))]\n",
      "[rdflib.term.Literal('Littleton', datatype=rdflib.term.URIRef('http://www.w3.org/2001/XMLSchema#string')), rdflib.term.Literal('CO', datatype=rdflib.term.URIRef('http://www.w3.org/2001/XMLSchema#string')), rdflib.term.Literal('1', datatype=rdflib.term.URIRef('http://www.w3.org/2001/XMLSchema#integer'))]\n",
      "[rdflib.term.Literal('Arvada', datatype=rdflib.term.URIRef('http://www.w3.org/2001/XMLSchema#string')), rdflib.term.Literal('CO', datatype=rdflib.term.URIRef('http://www.w3.org/2001/XMLSchema#string')), rdflib.term.Literal('2', datatype=rdflib.term.URIRef('http://www.w3.org/2001/XMLSchema#integer'))]\n",
      "[rdflib.term.Literal('Denver', datatype=rdflib.term.URIRef('http://www.w3.org/2001/XMLSchema#string')), rdflib.term.Literal('CO', datatype=rdflib.term.URIRef('http://www.w3.org/2001/XMLSchema#string')), rdflib.term.Literal('2', datatype=rdflib.term.URIRef('http://www.w3.org/2001/XMLSchema#integer'))]\n",
      "[rdflib.term.Literal('Fairfield', datatype=rdflib.term.URIRef('http://www.w3.org/2001/XMLSchema#string')), rdflib.term.Literal('CT', datatype=rdflib.term.URIRef('http://www.w3.org/2001/XMLSchema#string')), rdflib.term.Literal('1', datatype=rdflib.term.URIRef('http://www.w3.org/2001/XMLSchema#integer'))]\n",
      "[rdflib.term.Literal('Shelton', datatype=rdflib.term.URIRef('http://www.w3.org/2001/XMLSchema#string')), rdflib.term.Literal('CT', datatype=rdflib.term.URIRef('http://www.w3.org/2001/XMLSchema#string')), rdflib.term.Literal('1', datatype=rdflib.term.URIRef('http://www.w3.org/2001/XMLSchema#integer'))]\n",
      "[rdflib.term.Literal('Spokane', datatype=rdflib.term.URIRef('http://www.w3.org/2001/XMLSchema#string')), rdflib.term.Literal('City Of Spokane Valley', datatype=rdflib.term.URIRef('http://www.w3.org/2001/XMLSchema#string')), rdflib.term.Literal('1', datatype=rdflib.term.URIRef('http://www.w3.org/2001/XMLSchema#integer'))]\n",
      "[rdflib.term.Literal('Endicott', datatype=rdflib.term.URIRef('http://www.w3.org/2001/XMLSchema#string')), rdflib.term.Literal('Crestview Heights', datatype=rdflib.term.URIRef('http://www.w3.org/2001/XMLSchema#string')), rdflib.term.Literal('1', datatype=rdflib.term.URIRef('http://www.w3.org/2001/XMLSchema#integer'))]\n",
      "[rdflib.term.Literal('Washington', datatype=rdflib.term.URIRef('http://www.w3.org/2001/XMLSchema#string')), rdflib.term.Literal('DC', datatype=rdflib.term.URIRef('http://www.w3.org/2001/XMLSchema#string')), rdflib.term.Literal('1', datatype=rdflib.term.URIRef('http://www.w3.org/2001/XMLSchema#integer'))]\n",
      "[rdflib.term.Literal('Wilmington', datatype=rdflib.term.URIRef('http://www.w3.org/2001/XMLSchema#string')), rdflib.term.Literal('DE', datatype=rdflib.term.URIRef('http://www.w3.org/2001/XMLSchema#string')), rdflib.term.Literal('1', datatype=rdflib.term.URIRef('http://www.w3.org/2001/XMLSchema#integer'))]\n",
      "[rdflib.term.Literal('Newark', datatype=rdflib.term.URIRef('http://www.w3.org/2001/XMLSchema#string')), rdflib.term.Literal('DE', datatype=rdflib.term.URIRef('http://www.w3.org/2001/XMLSchema#string')), rdflib.term.Literal('1', datatype=rdflib.term.URIRef('http://www.w3.org/2001/XMLSchema#integer'))]\n",
      "[rdflib.term.Literal('Middle Village', datatype=rdflib.term.URIRef('http://www.w3.org/2001/XMLSchema#string')), rdflib.term.Literal('Elmhurst', datatype=rdflib.term.URIRef('http://www.w3.org/2001/XMLSchema#string')), rdflib.term.Literal('1', datatype=rdflib.term.URIRef('http://www.w3.org/2001/XMLSchema#integer'))]\n",
      "[rdflib.term.Literal('Gainesville', datatype=rdflib.term.URIRef('http://www.w3.org/2001/XMLSchema#string')), rdflib.term.Literal('FL', datatype=rdflib.term.URIRef('http://www.w3.org/2001/XMLSchema#string')), rdflib.term.Literal('1', datatype=rdflib.term.URIRef('http://www.w3.org/2001/XMLSchema#integer'))]\n",
      "[rdflib.term.Literal('Maitland', datatype=rdflib.term.URIRef('http://www.w3.org/2001/XMLSchema#string')), rdflib.term.Literal('FL', datatype=rdflib.term.URIRef('http://www.w3.org/2001/XMLSchema#string')), rdflib.term.Literal('1', datatype=rdflib.term.URIRef('http://www.w3.org/2001/XMLSchema#integer'))]\n",
      "[rdflib.term.Literal('Loveland', datatype=rdflib.term.URIRef('http://www.w3.org/2001/XMLSchema#string')), rdflib.term.Literal('Fairmont', datatype=rdflib.term.URIRef('http://www.w3.org/2001/XMLSchema#string')), rdflib.term.Literal('4', datatype=rdflib.term.URIRef('http://www.w3.org/2001/XMLSchema#integer'))]\n",
      "[rdflib.term.Literal('Cincinnati', datatype=rdflib.term.URIRef('http://www.w3.org/2001/XMLSchema#string')), rdflib.term.Literal('Fairmont', datatype=rdflib.term.URIRef('http://www.w3.org/2001/XMLSchema#string')), rdflib.term.Literal('4', datatype=rdflib.term.URIRef('http://www.w3.org/2001/XMLSchema#integer'))]\n",
      "[rdflib.term.Literal('Chicago', datatype=rdflib.term.URIRef('http://www.w3.org/2001/XMLSchema#string')), rdflib.term.Literal('Forest View', datatype=rdflib.term.URIRef('http://www.w3.org/2001/XMLSchema#string')), rdflib.term.Literal('1', datatype=rdflib.term.URIRef('http://www.w3.org/2001/XMLSchema#integer'))]\n",
      "[rdflib.term.Literal('Americus', datatype=rdflib.term.URIRef('http://www.w3.org/2001/XMLSchema#string')), rdflib.term.Literal('GA', datatype=rdflib.term.URIRef('http://www.w3.org/2001/XMLSchema#string')), rdflib.term.Literal('1', datatype=rdflib.term.URIRef('http://www.w3.org/2001/XMLSchema#integer'))]\n",
      "[rdflib.term.Literal('Bloomfield', datatype=rdflib.term.URIRef('http://www.w3.org/2001/XMLSchema#string')), rdflib.term.Literal('Grove', datatype=rdflib.term.URIRef('http://www.w3.org/2001/XMLSchema#string')), rdflib.term.Literal('1', datatype=rdflib.term.URIRef('http://www.w3.org/2001/XMLSchema#integer'))]\n",
      "[rdflib.term.Literal('Osseo', datatype=rdflib.term.URIRef('http://www.w3.org/2001/XMLSchema#string')), rdflib.term.Literal('Hassan', datatype=rdflib.term.URIRef('http://www.w3.org/2001/XMLSchema#string')), rdflib.term.Literal('1', datatype=rdflib.term.URIRef('http://www.w3.org/2001/XMLSchema#integer'))]\n",
      "[rdflib.term.Literal('Sioux City', datatype=rdflib.term.URIRef('http://www.w3.org/2001/XMLSchema#string')), rdflib.term.Literal('IA', datatype=rdflib.term.URIRef('http://www.w3.org/2001/XMLSchema#string')), rdflib.term.Literal('1', datatype=rdflib.term.URIRef('http://www.w3.org/2001/XMLSchema#integer'))]\n",
      "[rdflib.term.Literal('Addison', datatype=rdflib.term.URIRef('http://www.w3.org/2001/XMLSchema#string')), rdflib.term.Literal('IL', datatype=rdflib.term.URIRef('http://www.w3.org/2001/XMLSchema#string')), rdflib.term.Literal('1', datatype=rdflib.term.URIRef('http://www.w3.org/2001/XMLSchema#integer'))]\n",
      "[rdflib.term.Literal('Urbana', datatype=rdflib.term.URIRef('http://www.w3.org/2001/XMLSchema#string')), rdflib.term.Literal('IL', datatype=rdflib.term.URIRef('http://www.w3.org/2001/XMLSchema#string')), rdflib.term.Literal('1', datatype=rdflib.term.URIRef('http://www.w3.org/2001/XMLSchema#integer'))]\n",
      "[rdflib.term.Literal('Chatham', datatype=rdflib.term.URIRef('http://www.w3.org/2001/XMLSchema#string')), rdflib.term.Literal('IL', datatype=rdflib.term.URIRef('http://www.w3.org/2001/XMLSchema#string')), rdflib.term.Literal('1', datatype=rdflib.term.URIRef('http://www.w3.org/2001/XMLSchema#integer'))]\n",
      "[rdflib.term.Literal('Berwyn', datatype=rdflib.term.URIRef('http://www.w3.org/2001/XMLSchema#string')), rdflib.term.Literal('IL', datatype=rdflib.term.URIRef('http://www.w3.org/2001/XMLSchema#string')), rdflib.term.Literal('1', datatype=rdflib.term.URIRef('http://www.w3.org/2001/XMLSchema#integer'))]\n",
      "[rdflib.term.Literal('Homer Glen', datatype=rdflib.term.URIRef('http://www.w3.org/2001/XMLSchema#string')), rdflib.term.Literal('IL', datatype=rdflib.term.URIRef('http://www.w3.org/2001/XMLSchema#string')), rdflib.term.Literal('1', datatype=rdflib.term.URIRef('http://www.w3.org/2001/XMLSchema#integer'))]\n",
      "[rdflib.term.Literal('Indianapolis', datatype=rdflib.term.URIRef('http://www.w3.org/2001/XMLSchema#string')), rdflib.term.Literal('IN', datatype=rdflib.term.URIRef('http://www.w3.org/2001/XMLSchema#string')), rdflib.term.Literal('1', datatype=rdflib.term.URIRef('http://www.w3.org/2001/XMLSchema#integer'))]\n",
      "[rdflib.term.Literal('Lafayette', datatype=rdflib.term.URIRef('http://www.w3.org/2001/XMLSchema#string')), rdflib.term.Literal('IN', datatype=rdflib.term.URIRef('http://www.w3.org/2001/XMLSchema#string')), rdflib.term.Literal('1', datatype=rdflib.term.URIRef('http://www.w3.org/2001/XMLSchema#integer'))]\n",
      "[rdflib.term.Literal('Bloomington', datatype=rdflib.term.URIRef('http://www.w3.org/2001/XMLSchema#string')), rdflib.term.Literal('IN', datatype=rdflib.term.URIRef('http://www.w3.org/2001/XMLSchema#string')), rdflib.term.Literal('1', datatype=rdflib.term.URIRef('http://www.w3.org/2001/XMLSchema#integer'))]\n",
      "[rdflib.term.Literal('Kirkland', datatype=rdflib.term.URIRef('http://www.w3.org/2001/XMLSchema#string')), rdflib.term.Literal('Juanita', datatype=rdflib.term.URIRef('http://www.w3.org/2001/XMLSchema#string')), rdflib.term.Literal('1', datatype=rdflib.term.URIRef('http://www.w3.org/2001/XMLSchema#integer'))]\n",
      "[rdflib.term.Literal('Olathe', datatype=rdflib.term.URIRef('http://www.w3.org/2001/XMLSchema#string')), rdflib.term.Literal('KS', datatype=rdflib.term.URIRef('http://www.w3.org/2001/XMLSchema#string')), rdflib.term.Literal('1', datatype=rdflib.term.URIRef('http://www.w3.org/2001/XMLSchema#integer'))]\n",
      "[rdflib.term.Literal('Wichita', datatype=rdflib.term.URIRef('http://www.w3.org/2001/XMLSchema#string')), rdflib.term.Literal('KS', datatype=rdflib.term.URIRef('http://www.w3.org/2001/XMLSchema#string')), rdflib.term.Literal('2', datatype=rdflib.term.URIRef('http://www.w3.org/2001/XMLSchema#integer'))]\n",
      "[rdflib.term.Literal('Kirkland', datatype=rdflib.term.URIRef('http://www.w3.org/2001/XMLSchema#string')), rdflib.term.Literal('Kingsgate', datatype=rdflib.term.URIRef('http://www.w3.org/2001/XMLSchema#string')), rdflib.term.Literal('1', datatype=rdflib.term.URIRef('http://www.w3.org/2001/XMLSchema#integer'))]\n",
      "[rdflib.term.Literal('Harvey', datatype=rdflib.term.URIRef('http://www.w3.org/2001/XMLSchema#string')), rdflib.term.Literal('LA', datatype=rdflib.term.URIRef('http://www.w3.org/2001/XMLSchema#string')), rdflib.term.Literal('1', datatype=rdflib.term.URIRef('http://www.w3.org/2001/XMLSchema#integer'))]\n",
      "[rdflib.term.Literal('New Orleans', datatype=rdflib.term.URIRef('http://www.w3.org/2001/XMLSchema#string')), rdflib.term.Literal('LA', datatype=rdflib.term.URIRef('http://www.w3.org/2001/XMLSchema#string')), rdflib.term.Literal('1', datatype=rdflib.term.URIRef('http://www.w3.org/2001/XMLSchema#integer'))]\n",
      "[rdflib.term.Literal('Broussard', datatype=rdflib.term.URIRef('http://www.w3.org/2001/XMLSchema#string')), rdflib.term.Literal('LA', datatype=rdflib.term.URIRef('http://www.w3.org/2001/XMLSchema#string')), rdflib.term.Literal('1', datatype=rdflib.term.URIRef('http://www.w3.org/2001/XMLSchema#integer'))]\n",
      "[rdflib.term.Literal('Lawrence Township', datatype=rdflib.term.URIRef('http://www.w3.org/2001/XMLSchema#string')), rdflib.term.Literal('Lawrenceville', datatype=rdflib.term.URIRef('http://www.w3.org/2001/XMLSchema#string')), rdflib.term.Literal('1', datatype=rdflib.term.URIRef('http://www.w3.org/2001/XMLSchema#integer'))]\n",
      "[rdflib.term.Literal('Hickory', datatype=rdflib.term.URIRef('http://www.w3.org/2001/XMLSchema#string')), rdflib.term.Literal('Longview', datatype=rdflib.term.URIRef('http://www.w3.org/2001/XMLSchema#string')), rdflib.term.Literal('1', datatype=rdflib.term.URIRef('http://www.w3.org/2001/XMLSchema#integer'))]\n",
      "[rdflib.term.Literal('Los Angeles', datatype=rdflib.term.URIRef('http://www.w3.org/2001/XMLSchema#string')), rdflib.term.Literal('Los Feliz', datatype=rdflib.term.URIRef('http://www.w3.org/2001/XMLSchema#string')), rdflib.term.Literal('1', datatype=rdflib.term.URIRef('http://www.w3.org/2001/XMLSchema#integer'))]\n",
      "[rdflib.term.Literal('Hyannis', datatype=rdflib.term.URIRef('http://www.w3.org/2001/XMLSchema#string')), rdflib.term.Literal('MA', datatype=rdflib.term.URIRef('http://www.w3.org/2001/XMLSchema#string')), rdflib.term.Literal('1', datatype=rdflib.term.URIRef('http://www.w3.org/2001/XMLSchema#integer'))]\n",
      "[rdflib.term.Literal('Sturbridge', datatype=rdflib.term.URIRef('http://www.w3.org/2001/XMLSchema#string')), rdflib.term.Literal('MA', datatype=rdflib.term.URIRef('http://www.w3.org/2001/XMLSchema#string')), rdflib.term.Literal('1', datatype=rdflib.term.URIRef('http://www.w3.org/2001/XMLSchema#integer'))]\n",
      "[rdflib.term.Literal('Newton Highlands', datatype=rdflib.term.URIRef('http://www.w3.org/2001/XMLSchema#string')), rdflib.term.Literal('MA', datatype=rdflib.term.URIRef('http://www.w3.org/2001/XMLSchema#string')), rdflib.term.Literal('1', datatype=rdflib.term.URIRef('http://www.w3.org/2001/XMLSchema#integer'))]\n",
      "[rdflib.term.Literal('Brookline', datatype=rdflib.term.URIRef('http://www.w3.org/2001/XMLSchema#string')), rdflib.term.Literal('MA', datatype=rdflib.term.URIRef('http://www.w3.org/2001/XMLSchema#string')), rdflib.term.Literal('1', datatype=rdflib.term.URIRef('http://www.w3.org/2001/XMLSchema#integer'))]\n",
      "[rdflib.term.Literal('Burlington', datatype=rdflib.term.URIRef('http://www.w3.org/2001/XMLSchema#string')), rdflib.term.Literal('MA', datatype=rdflib.term.URIRef('http://www.w3.org/2001/XMLSchema#string')), rdflib.term.Literal('1', datatype=rdflib.term.URIRef('http://www.w3.org/2001/XMLSchema#integer'))]\n",
      "[rdflib.term.Literal('Danvers', datatype=rdflib.term.URIRef('http://www.w3.org/2001/XMLSchema#string')), rdflib.term.Literal('MA', datatype=rdflib.term.URIRef('http://www.w3.org/2001/XMLSchema#string')), rdflib.term.Literal('2', datatype=rdflib.term.URIRef('http://www.w3.org/2001/XMLSchema#integer'))]\n",
      "[rdflib.term.Literal('Cockeysville', datatype=rdflib.term.URIRef('http://www.w3.org/2001/XMLSchema#string')), rdflib.term.Literal('MD', datatype=rdflib.term.URIRef('http://www.w3.org/2001/XMLSchema#string')), rdflib.term.Literal('1', datatype=rdflib.term.URIRef('http://www.w3.org/2001/XMLSchema#integer'))]\n",
      "[rdflib.term.Literal('Essex', datatype=rdflib.term.URIRef('http://www.w3.org/2001/XMLSchema#string')), rdflib.term.Literal('MD', datatype=rdflib.term.URIRef('http://www.w3.org/2001/XMLSchema#string')), rdflib.term.Literal('1', datatype=rdflib.term.URIRef('http://www.w3.org/2001/XMLSchema#integer'))]\n",
      "[rdflib.term.Literal('Westminster', datatype=rdflib.term.URIRef('http://www.w3.org/2001/XMLSchema#string')), rdflib.term.Literal('MD', datatype=rdflib.term.URIRef('http://www.w3.org/2001/XMLSchema#string')), rdflib.term.Literal('2', datatype=rdflib.term.URIRef('http://www.w3.org/2001/XMLSchema#integer'))]\n",
      "[rdflib.term.Literal('Kennebunk', datatype=rdflib.term.URIRef('http://www.w3.org/2001/XMLSchema#string')), rdflib.term.Literal('ME', datatype=rdflib.term.URIRef('http://www.w3.org/2001/XMLSchema#string')), rdflib.term.Literal('1', datatype=rdflib.term.URIRef('http://www.w3.org/2001/XMLSchema#integer'))]\n",
      "[rdflib.term.Literal('Redford', datatype=rdflib.term.URIRef('http://www.w3.org/2001/XMLSchema#string')), rdflib.term.Literal('MI', datatype=rdflib.term.URIRef('http://www.w3.org/2001/XMLSchema#string')), rdflib.term.Literal('1', datatype=rdflib.term.URIRef('http://www.w3.org/2001/XMLSchema#integer'))]\n",
      "[rdflib.term.Literal('White Lake', datatype=rdflib.term.URIRef('http://www.w3.org/2001/XMLSchema#string')), rdflib.term.Literal('MI', datatype=rdflib.term.URIRef('http://www.w3.org/2001/XMLSchema#string')), rdflib.term.Literal('1', datatype=rdflib.term.URIRef('http://www.w3.org/2001/XMLSchema#integer'))]\n",
      "[rdflib.term.Literal('Bronson', datatype=rdflib.term.URIRef('http://www.w3.org/2001/XMLSchema#string')), rdflib.term.Literal('MI', datatype=rdflib.term.URIRef('http://www.w3.org/2001/XMLSchema#string')), rdflib.term.Literal('1', datatype=rdflib.term.URIRef('http://www.w3.org/2001/XMLSchema#integer'))]\n",
      "[rdflib.term.Literal('Southgate', datatype=rdflib.term.URIRef('http://www.w3.org/2001/XMLSchema#string')), rdflib.term.Literal('MI', datatype=rdflib.term.URIRef('http://www.w3.org/2001/XMLSchema#string')), rdflib.term.Literal('1', datatype=rdflib.term.URIRef('http://www.w3.org/2001/XMLSchema#integer'))]\n",
      "[rdflib.term.Literal('Wyoming', datatype=rdflib.term.URIRef('http://www.w3.org/2001/XMLSchema#string')), rdflib.term.Literal('MI', datatype=rdflib.term.URIRef('http://www.w3.org/2001/XMLSchema#string')), rdflib.term.Literal('1', datatype=rdflib.term.URIRef('http://www.w3.org/2001/XMLSchema#integer'))]\n",
      "[rdflib.term.Literal('Minneapolis', datatype=rdflib.term.URIRef('http://www.w3.org/2001/XMLSchema#string')), rdflib.term.Literal('MN', datatype=rdflib.term.URIRef('http://www.w3.org/2001/XMLSchema#string')), rdflib.term.Literal('1', datatype=rdflib.term.URIRef('http://www.w3.org/2001/XMLSchema#integer'))]\n",
      "[rdflib.term.Literal('Arnold', datatype=rdflib.term.URIRef('http://www.w3.org/2001/XMLSchema#string')), rdflib.term.Literal('MO', datatype=rdflib.term.URIRef('http://www.w3.org/2001/XMLSchema#string')), rdflib.term.Literal('1', datatype=rdflib.term.URIRef('http://www.w3.org/2001/XMLSchema#integer'))]\n",
      "[rdflib.term.Literal('Saint Louis', datatype=rdflib.term.URIRef('http://www.w3.org/2001/XMLSchema#string')), rdflib.term.Literal('MO', datatype=rdflib.term.URIRef('http://www.w3.org/2001/XMLSchema#string')), rdflib.term.Literal('1', datatype=rdflib.term.URIRef('http://www.w3.org/2001/XMLSchema#integer'))]\n",
      "[rdflib.term.Literal('Hernando', datatype=rdflib.term.URIRef('http://www.w3.org/2001/XMLSchema#string')), rdflib.term.Literal('MS', datatype=rdflib.term.URIRef('http://www.w3.org/2001/XMLSchema#string')), rdflib.term.Literal('1', datatype=rdflib.term.URIRef('http://www.w3.org/2001/XMLSchema#integer'))]\n",
      "[rdflib.term.Literal('Southaven', datatype=rdflib.term.URIRef('http://www.w3.org/2001/XMLSchema#string')), rdflib.term.Literal('MS', datatype=rdflib.term.URIRef('http://www.w3.org/2001/XMLSchema#string')), rdflib.term.Literal('1', datatype=rdflib.term.URIRef('http://www.w3.org/2001/XMLSchema#integer'))]\n",
      "[rdflib.term.Literal('New York', datatype=rdflib.term.URIRef('http://www.w3.org/2001/XMLSchema#string')), rdflib.term.Literal('Manhattan', datatype=rdflib.term.URIRef('http://www.w3.org/2001/XMLSchema#string')), rdflib.term.Literal('3', datatype=rdflib.term.URIRef('http://www.w3.org/2001/XMLSchema#integer'))]\n",
      "[rdflib.term.Literal('Columbus', datatype=rdflib.term.URIRef('http://www.w3.org/2001/XMLSchema#string')), rdflib.term.Literal('Marble Cliff', datatype=rdflib.term.URIRef('http://www.w3.org/2001/XMLSchema#string')), rdflib.term.Literal('1', datatype=rdflib.term.URIRef('http://www.w3.org/2001/XMLSchema#integer'))]\n",
      "[rdflib.term.Literal('Kernersville', datatype=rdflib.term.URIRef('http://www.w3.org/2001/XMLSchema#string')), rdflib.term.Literal('Matthewstown', datatype=rdflib.term.URIRef('http://www.w3.org/2001/XMLSchema#string')), rdflib.term.Literal('1', datatype=rdflib.term.URIRef('http://www.w3.org/2001/XMLSchema#integer'))]\n",
      "[rdflib.term.Literal('Newark', datatype=rdflib.term.URIRef('http://www.w3.org/2001/XMLSchema#string')), rdflib.term.Literal('Midtown', datatype=rdflib.term.URIRef('http://www.w3.org/2001/XMLSchema#string')), rdflib.term.Literal('1', datatype=rdflib.term.URIRef('http://www.w3.org/2001/XMLSchema#integer'))]\n",
      "[rdflib.term.Literal('Mount Laurel', datatype=rdflib.term.URIRef('http://www.w3.org/2001/XMLSchema#string')), rdflib.term.Literal('Mount Laurel Township', datatype=rdflib.term.URIRef('http://www.w3.org/2001/XMLSchema#string')), rdflib.term.Literal('1', datatype=rdflib.term.URIRef('http://www.w3.org/2001/XMLSchema#integer'))]\n",
      "[rdflib.term.Literal('Pine Plains', datatype=rdflib.term.URIRef('http://www.w3.org/2001/XMLSchema#string')), rdflib.term.Literal('Mount Ross', datatype=rdflib.term.URIRef('http://www.w3.org/2001/XMLSchema#string')), rdflib.term.Literal('1', datatype=rdflib.term.URIRef('http://www.w3.org/2001/XMLSchema#integer'))]\n",
      "[rdflib.term.Literal('Memphis', datatype=rdflib.term.URIRef('http://www.w3.org/2001/XMLSchema#string')), rdflib.term.Literal('Mphs', datatype=rdflib.term.URIRef('http://www.w3.org/2001/XMLSchema#string')), rdflib.term.Literal('1', datatype=rdflib.term.URIRef('http://www.w3.org/2001/XMLSchema#integer'))]\n",
      "[rdflib.term.Literal('Loveland', datatype=rdflib.term.URIRef('http://www.w3.org/2001/XMLSchema#string')), rdflib.term.Literal('Murdock', datatype=rdflib.term.URIRef('http://www.w3.org/2001/XMLSchema#string')), rdflib.term.Literal('4', datatype=rdflib.term.URIRef('http://www.w3.org/2001/XMLSchema#integer'))]\n",
      "[rdflib.term.Literal('Cincinnati', datatype=rdflib.term.URIRef('http://www.w3.org/2001/XMLSchema#string')), rdflib.term.Literal('Murdock', datatype=rdflib.term.URIRef('http://www.w3.org/2001/XMLSchema#string')), rdflib.term.Literal('4', datatype=rdflib.term.URIRef('http://www.w3.org/2001/XMLSchema#integer'))]\n",
      "[rdflib.term.Literal('Omaha', datatype=rdflib.term.URIRef('http://www.w3.org/2001/XMLSchema#string')), rdflib.term.Literal('NE', datatype=rdflib.term.URIRef('http://www.w3.org/2001/XMLSchema#string')), rdflib.term.Literal('1', datatype=rdflib.term.URIRef('http://www.w3.org/2001/XMLSchema#integer'))]\n",
      "[rdflib.term.Literal('Saddle Brook', datatype=rdflib.term.URIRef('http://www.w3.org/2001/XMLSchema#string')), rdflib.term.Literal('NJ', datatype=rdflib.term.URIRef('http://www.w3.org/2001/XMLSchema#string')), rdflib.term.Literal('1', datatype=rdflib.term.URIRef('http://www.w3.org/2001/XMLSchema#integer'))]\n",
      "[rdflib.term.Literal('Piscataway', datatype=rdflib.term.URIRef('http://www.w3.org/2001/XMLSchema#string')), rdflib.term.Literal('NJ', datatype=rdflib.term.URIRef('http://www.w3.org/2001/XMLSchema#string')), rdflib.term.Literal('1', datatype=rdflib.term.URIRef('http://www.w3.org/2001/XMLSchema#integer'))]\n",
      "[rdflib.term.Literal('Denville', datatype=rdflib.term.URIRef('http://www.w3.org/2001/XMLSchema#string')), rdflib.term.Literal('NJ', datatype=rdflib.term.URIRef('http://www.w3.org/2001/XMLSchema#string')), rdflib.term.Literal('1', datatype=rdflib.term.URIRef('http://www.w3.org/2001/XMLSchema#integer'))]\n",
      "[rdflib.term.Literal('Englishtown', datatype=rdflib.term.URIRef('http://www.w3.org/2001/XMLSchema#string')), rdflib.term.Literal('NJ', datatype=rdflib.term.URIRef('http://www.w3.org/2001/XMLSchema#string')), rdflib.term.Literal('1', datatype=rdflib.term.URIRef('http://www.w3.org/2001/XMLSchema#integer'))]\n",
      "[rdflib.term.Literal('Clark', datatype=rdflib.term.URIRef('http://www.w3.org/2001/XMLSchema#string')), rdflib.term.Literal('NJ', datatype=rdflib.term.URIRef('http://www.w3.org/2001/XMLSchema#string')), rdflib.term.Literal('1', datatype=rdflib.term.URIRef('http://www.w3.org/2001/XMLSchema#integer'))]\n",
      "[rdflib.term.Literal('Henderson', datatype=rdflib.term.URIRef('http://www.w3.org/2001/XMLSchema#string')), rdflib.term.Literal('NV', datatype=rdflib.term.URIRef('http://www.w3.org/2001/XMLSchema#string')), rdflib.term.Literal('1', datatype=rdflib.term.URIRef('http://www.w3.org/2001/XMLSchema#integer'))]\n",
      "[rdflib.term.Literal('Las Vegas', datatype=rdflib.term.URIRef('http://www.w3.org/2001/XMLSchema#string')), rdflib.term.Literal('NV', datatype=rdflib.term.URIRef('http://www.w3.org/2001/XMLSchema#string')), rdflib.term.Literal('1', datatype=rdflib.term.URIRef('http://www.w3.org/2001/XMLSchema#integer'))]\n",
      "[rdflib.term.Literal('Staten Island', datatype=rdflib.term.URIRef('http://www.w3.org/2001/XMLSchema#string')), rdflib.term.Literal('NY', datatype=rdflib.term.URIRef('http://www.w3.org/2001/XMLSchema#string')), rdflib.term.Literal('1', datatype=rdflib.term.URIRef('http://www.w3.org/2001/XMLSchema#integer'))]\n",
      "[rdflib.term.Literal('Massapequa Park', datatype=rdflib.term.URIRef('http://www.w3.org/2001/XMLSchema#string')), rdflib.term.Literal('NY', datatype=rdflib.term.URIRef('http://www.w3.org/2001/XMLSchema#string')), rdflib.term.Literal('1', datatype=rdflib.term.URIRef('http://www.w3.org/2001/XMLSchema#integer'))]\n",
      "[rdflib.term.Literal('Buffalo', datatype=rdflib.term.URIRef('http://www.w3.org/2001/XMLSchema#string')), rdflib.term.Literal('NY', datatype=rdflib.term.URIRef('http://www.w3.org/2001/XMLSchema#string')), rdflib.term.Literal('1', datatype=rdflib.term.URIRef('http://www.w3.org/2001/XMLSchema#integer'))]\n",
      "[rdflib.term.Literal('White Plains', datatype=rdflib.term.URIRef('http://www.w3.org/2001/XMLSchema#string')), rdflib.term.Literal('NY', datatype=rdflib.term.URIRef('http://www.w3.org/2001/XMLSchema#string')), rdflib.term.Literal('2', datatype=rdflib.term.URIRef('http://www.w3.org/2001/XMLSchema#integer'))]\n",
      "[rdflib.term.Literal('New York', datatype=rdflib.term.URIRef('http://www.w3.org/2001/XMLSchema#string')), rdflib.term.Literal('New York City', datatype=rdflib.term.URIRef('http://www.w3.org/2001/XMLSchema#string')), rdflib.term.Literal('1', datatype=rdflib.term.URIRef('http://www.w3.org/2001/XMLSchema#integer'))]\n",
      "[rdflib.term.Literal('Providence', datatype=rdflib.term.URIRef('http://www.w3.org/2001/XMLSchema#string')), rdflib.term.Literal('No Providence', datatype=rdflib.term.URIRef('http://www.w3.org/2001/XMLSchema#string')), rdflib.term.Literal('1', datatype=rdflib.term.URIRef('http://www.w3.org/2001/XMLSchema#integer'))]\n",
      "[rdflib.term.Literal('New York', datatype=rdflib.term.URIRef('http://www.w3.org/2001/XMLSchema#string')), rdflib.term.Literal('Nyc', datatype=rdflib.term.URIRef('http://www.w3.org/2001/XMLSchema#string')), rdflib.term.Literal('2', datatype=rdflib.term.URIRef('http://www.w3.org/2001/XMLSchema#integer'))]\n",
      "[rdflib.term.Literal('Findlay', datatype=rdflib.term.URIRef('http://www.w3.org/2001/XMLSchema#string')), rdflib.term.Literal('OH', datatype=rdflib.term.URIRef('http://www.w3.org/2001/XMLSchema#string')), rdflib.term.Literal('1', datatype=rdflib.term.URIRef('http://www.w3.org/2001/XMLSchema#integer'))]\n",
      "[rdflib.term.Literal('Newark', datatype=rdflib.term.URIRef('http://www.w3.org/2001/XMLSchema#string')), rdflib.term.Literal('OH', datatype=rdflib.term.URIRef('http://www.w3.org/2001/XMLSchema#string')), rdflib.term.Literal('1', datatype=rdflib.term.URIRef('http://www.w3.org/2001/XMLSchema#integer'))]\n",
      "[rdflib.term.Literal('Mount Vernon', datatype=rdflib.term.URIRef('http://www.w3.org/2001/XMLSchema#string')), rdflib.term.Literal('OH', datatype=rdflib.term.URIRef('http://www.w3.org/2001/XMLSchema#string')), rdflib.term.Literal('1', datatype=rdflib.term.URIRef('http://www.w3.org/2001/XMLSchema#integer'))]\n",
      "[rdflib.term.Literal('Baltimore', datatype=rdflib.term.URIRef('http://www.w3.org/2001/XMLSchema#string')), rdflib.term.Literal('OH', datatype=rdflib.term.URIRef('http://www.w3.org/2001/XMLSchema#string')), rdflib.term.Literal('1', datatype=rdflib.term.URIRef('http://www.w3.org/2001/XMLSchema#integer'))]\n",
      "[rdflib.term.Literal('Bend', datatype=rdflib.term.URIRef('http://www.w3.org/2001/XMLSchema#string')), rdflib.term.Literal('OR', datatype=rdflib.term.URIRef('http://www.w3.org/2001/XMLSchema#string')), rdflib.term.Literal('1', datatype=rdflib.term.URIRef('http://www.w3.org/2001/XMLSchema#integer'))]\n",
      "[rdflib.term.Literal('Winston Salem', datatype=rdflib.term.URIRef('http://www.w3.org/2001/XMLSchema#string')), rdflib.term.Literal('Oldtown', datatype=rdflib.term.URIRef('http://www.w3.org/2001/XMLSchema#string')), rdflib.term.Literal('1', datatype=rdflib.term.URIRef('http://www.w3.org/2001/XMLSchema#integer'))]\n",
      "[rdflib.term.Literal('Chicago', datatype=rdflib.term.URIRef('http://www.w3.org/2001/XMLSchema#string')), rdflib.term.Literal('Ontario Street', datatype=rdflib.term.URIRef('http://www.w3.org/2001/XMLSchema#string')), rdflib.term.Literal('1', datatype=rdflib.term.URIRef('http://www.w3.org/2001/XMLSchema#integer'))]\n",
      "[rdflib.term.Literal('West Chester', datatype=rdflib.term.URIRef('http://www.w3.org/2001/XMLSchema#string')), rdflib.term.Literal('PA', datatype=rdflib.term.URIRef('http://www.w3.org/2001/XMLSchema#string')), rdflib.term.Literal('1', datatype=rdflib.term.URIRef('http://www.w3.org/2001/XMLSchema#integer'))]\n",
      "[rdflib.term.Literal('Luzerne', datatype=rdflib.term.URIRef('http://www.w3.org/2001/XMLSchema#string')), rdflib.term.Literal('PA', datatype=rdflib.term.URIRef('http://www.w3.org/2001/XMLSchema#string')), rdflib.term.Literal('1', datatype=rdflib.term.URIRef('http://www.w3.org/2001/XMLSchema#integer'))]\n",
      "[rdflib.term.Literal('King Of Prussia', datatype=rdflib.term.URIRef('http://www.w3.org/2001/XMLSchema#string')), rdflib.term.Literal('PA', datatype=rdflib.term.URIRef('http://www.w3.org/2001/XMLSchema#string')), rdflib.term.Literal('1', datatype=rdflib.term.URIRef('http://www.w3.org/2001/XMLSchema#integer'))]\n",
      "[rdflib.term.Literal('Bethlehem', datatype=rdflib.term.URIRef('http://www.w3.org/2001/XMLSchema#string')), rdflib.term.Literal('PA', datatype=rdflib.term.URIRef('http://www.w3.org/2001/XMLSchema#string')), rdflib.term.Literal('1', datatype=rdflib.term.URIRef('http://www.w3.org/2001/XMLSchema#integer'))]\n",
      "[rdflib.term.Literal('Philadelphia', datatype=rdflib.term.URIRef('http://www.w3.org/2001/XMLSchema#string')), rdflib.term.Literal('PA', datatype=rdflib.term.URIRef('http://www.w3.org/2001/XMLSchema#string')), rdflib.term.Literal('2', datatype=rdflib.term.URIRef('http://www.w3.org/2001/XMLSchema#integer'))]\n",
      "[rdflib.term.Literal('Erie', datatype=rdflib.term.URIRef('http://www.w3.org/2001/XMLSchema#string')), rdflib.term.Literal('PA', datatype=rdflib.term.URIRef('http://www.w3.org/2001/XMLSchema#string')), rdflib.term.Literal('2', datatype=rdflib.term.URIRef('http://www.w3.org/2001/XMLSchema#integer'))]\n",
      "[rdflib.term.Literal('Philadelphia', datatype=rdflib.term.URIRef('http://www.w3.org/2001/XMLSchema#string')), rdflib.term.Literal('Phila', datatype=rdflib.term.URIRef('http://www.w3.org/2001/XMLSchema#string')), rdflib.term.Literal('1', datatype=rdflib.term.URIRef('http://www.w3.org/2001/XMLSchema#integer'))]\n",
      "[rdflib.term.Literal('Pittsburgh', datatype=rdflib.term.URIRef('http://www.w3.org/2001/XMLSchema#string')), rdflib.term.Literal('Pitt', datatype=rdflib.term.URIRef('http://www.w3.org/2001/XMLSchema#string')), rdflib.term.Literal('1', datatype=rdflib.term.URIRef('http://www.w3.org/2001/XMLSchema#integer'))]\n",
      "[rdflib.term.Literal('Flushing', datatype=rdflib.term.URIRef('http://www.w3.org/2001/XMLSchema#string')), rdflib.term.Literal('Queens', datatype=rdflib.term.URIRef('http://www.w3.org/2001/XMLSchema#string')), rdflib.term.Literal('1', datatype=rdflib.term.URIRef('http://www.w3.org/2001/XMLSchema#integer'))]\n",
      "[rdflib.term.Literal('Astoria', datatype=rdflib.term.URIRef('http://www.w3.org/2001/XMLSchema#string')), rdflib.term.Literal('Queens', datatype=rdflib.term.URIRef('http://www.w3.org/2001/XMLSchema#string')), rdflib.term.Literal('1', datatype=rdflib.term.URIRef('http://www.w3.org/2001/XMLSchema#integer'))]\n",
      "[rdflib.term.Literal('Bothell', datatype=rdflib.term.URIRef('http://www.w3.org/2001/XMLSchema#string')), rdflib.term.Literal('Queensgate', datatype=rdflib.term.URIRef('http://www.w3.org/2001/XMLSchema#string')), rdflib.term.Literal('1', datatype=rdflib.term.URIRef('http://www.w3.org/2001/XMLSchema#integer'))]\n",
      "[rdflib.term.Literal('Quincy', datatype=rdflib.term.URIRef('http://www.w3.org/2001/XMLSchema#string')), rdflib.term.Literal('Quincy Center', datatype=rdflib.term.URIRef('http://www.w3.org/2001/XMLSchema#string')), rdflib.term.Literal('1', datatype=rdflib.term.URIRef('http://www.w3.org/2001/XMLSchema#integer'))]\n",
      "[rdflib.term.Literal('Moses Lake', datatype=rdflib.term.URIRef('http://www.w3.org/2001/XMLSchema#string')), rdflib.term.Literal('Raugust', datatype=rdflib.term.URIRef('http://www.w3.org/2001/XMLSchema#string')), rdflib.term.Literal('1', datatype=rdflib.term.URIRef('http://www.w3.org/2001/XMLSchema#integer'))]\n",
      "[rdflib.term.Literal('Connellsville', datatype=rdflib.term.URIRef('http://www.w3.org/2001/XMLSchema#string')), rdflib.term.Literal('S Connelsvl', datatype=rdflib.term.URIRef('http://www.w3.org/2001/XMLSchema#string')), rdflib.term.Literal('1', datatype=rdflib.term.URIRef('http://www.w3.org/2001/XMLSchema#integer'))]\n",
      "[rdflib.term.Literal('Pickens', datatype=rdflib.term.URIRef('http://www.w3.org/2001/XMLSchema#string')), rdflib.term.Literal('SC', datatype=rdflib.term.URIRef('http://www.w3.org/2001/XMLSchema#string')), rdflib.term.Literal('1', datatype=rdflib.term.URIRef('http://www.w3.org/2001/XMLSchema#integer'))]\n",
      "[rdflib.term.Literal('Saint Albans', datatype=rdflib.term.URIRef('http://www.w3.org/2001/XMLSchema#string')), rdflib.term.Literal('St Albans', datatype=rdflib.term.URIRef('http://www.w3.org/2001/XMLSchema#string')), rdflib.term.Literal('1', datatype=rdflib.term.URIRef('http://www.w3.org/2001/XMLSchema#integer'))]\n",
      "[rdflib.term.Literal('Madison', datatype=rdflib.term.URIRef('http://www.w3.org/2001/XMLSchema#string')), rdflib.term.Literal('TN', datatype=rdflib.term.URIRef('http://www.w3.org/2001/XMLSchema#string')), rdflib.term.Literal('1', datatype=rdflib.term.URIRef('http://www.w3.org/2001/XMLSchema#integer'))]\n",
      "[rdflib.term.Literal('Houston', datatype=rdflib.term.URIRef('http://www.w3.org/2001/XMLSchema#string')), rdflib.term.Literal('TX', datatype=rdflib.term.URIRef('http://www.w3.org/2001/XMLSchema#string')), rdflib.term.Literal('1', datatype=rdflib.term.URIRef('http://www.w3.org/2001/XMLSchema#integer'))]\n",
      "[rdflib.term.Literal('Spring', datatype=rdflib.term.URIRef('http://www.w3.org/2001/XMLSchema#string')), rdflib.term.Literal('TX', datatype=rdflib.term.URIRef('http://www.w3.org/2001/XMLSchema#string')), rdflib.term.Literal('1', datatype=rdflib.term.URIRef('http://www.w3.org/2001/XMLSchema#integer'))]\n",
      "[rdflib.term.Literal('Grand Prairie', datatype=rdflib.term.URIRef('http://www.w3.org/2001/XMLSchema#string')), rdflib.term.Literal('TX', datatype=rdflib.term.URIRef('http://www.w3.org/2001/XMLSchema#string')), rdflib.term.Literal('1', datatype=rdflib.term.URIRef('http://www.w3.org/2001/XMLSchema#integer'))]\n",
      "[rdflib.term.Literal('Pasadena', datatype=rdflib.term.URIRef('http://www.w3.org/2001/XMLSchema#string')), rdflib.term.Literal('TX', datatype=rdflib.term.URIRef('http://www.w3.org/2001/XMLSchema#string')), rdflib.term.Literal('1', datatype=rdflib.term.URIRef('http://www.w3.org/2001/XMLSchema#integer'))]\n",
      "[rdflib.term.Literal('Southlake', datatype=rdflib.term.URIRef('http://www.w3.org/2001/XMLSchema#string')), rdflib.term.Literal('TX', datatype=rdflib.term.URIRef('http://www.w3.org/2001/XMLSchema#string')), rdflib.term.Literal('1', datatype=rdflib.term.URIRef('http://www.w3.org/2001/XMLSchema#integer'))]\n",
      "[rdflib.term.Literal('College Station', datatype=rdflib.term.URIRef('http://www.w3.org/2001/XMLSchema#string')), rdflib.term.Literal('TX', datatype=rdflib.term.URIRef('http://www.w3.org/2001/XMLSchema#string')), rdflib.term.Literal('1', datatype=rdflib.term.URIRef('http://www.w3.org/2001/XMLSchema#integer'))]\n",
      "[rdflib.term.Literal('Cedar Park', datatype=rdflib.term.URIRef('http://www.w3.org/2001/XMLSchema#string')), rdflib.term.Literal('TX', datatype=rdflib.term.URIRef('http://www.w3.org/2001/XMLSchema#string')), rdflib.term.Literal('1', datatype=rdflib.term.URIRef('http://www.w3.org/2001/XMLSchema#integer'))]\n",
      "[rdflib.term.Literal('Mesquite', datatype=rdflib.term.URIRef('http://www.w3.org/2001/XMLSchema#string')), rdflib.term.Literal('TX', datatype=rdflib.term.URIRef('http://www.w3.org/2001/XMLSchema#string')), rdflib.term.Literal('1', datatype=rdflib.term.URIRef('http://www.w3.org/2001/XMLSchema#integer'))]\n",
      "[rdflib.term.Literal('Keller', datatype=rdflib.term.URIRef('http://www.w3.org/2001/XMLSchema#string')), rdflib.term.Literal('TX', datatype=rdflib.term.URIRef('http://www.w3.org/2001/XMLSchema#string')), rdflib.term.Literal('1', datatype=rdflib.term.URIRef('http://www.w3.org/2001/XMLSchema#integer'))]\n",
      "[rdflib.term.Literal('Wellington', datatype=rdflib.term.URIRef('http://www.w3.org/2001/XMLSchema#string')), rdflib.term.Literal('TX', datatype=rdflib.term.URIRef('http://www.w3.org/2001/XMLSchema#string')), rdflib.term.Literal('4', datatype=rdflib.term.URIRef('http://www.w3.org/2001/XMLSchema#integer'))]\n",
      "[rdflib.term.Literal('Austin', datatype=rdflib.term.URIRef('http://www.w3.org/2001/XMLSchema#string')), rdflib.term.Literal('TX', datatype=rdflib.term.URIRef('http://www.w3.org/2001/XMLSchema#string')), rdflib.term.Literal('5', datatype=rdflib.term.URIRef('http://www.w3.org/2001/XMLSchema#integer'))]\n",
      "[rdflib.term.Literal('Provo', datatype=rdflib.term.URIRef('http://www.w3.org/2001/XMLSchema#string')), rdflib.term.Literal('UT', datatype=rdflib.term.URIRef('http://www.w3.org/2001/XMLSchema#string')), rdflib.term.Literal('1', datatype=rdflib.term.URIRef('http://www.w3.org/2001/XMLSchema#integer'))]\n",
      "[rdflib.term.Literal('Hoboken', datatype=rdflib.term.URIRef('http://www.w3.org/2001/XMLSchema#string')), rdflib.term.Literal('Uptown', datatype=rdflib.term.URIRef('http://www.w3.org/2001/XMLSchema#string')), rdflib.term.Literal('1', datatype=rdflib.term.URIRef('http://www.w3.org/2001/XMLSchema#integer'))]\n",
      "[rdflib.term.Literal('Suffolk', datatype=rdflib.term.URIRef('http://www.w3.org/2001/XMLSchema#string')), rdflib.term.Literal('VA', datatype=rdflib.term.URIRef('http://www.w3.org/2001/XMLSchema#string')), rdflib.term.Literal('1', datatype=rdflib.term.URIRef('http://www.w3.org/2001/XMLSchema#integer'))]\n",
      "[rdflib.term.Literal('Wellington', datatype=rdflib.term.URIRef('http://www.w3.org/2001/XMLSchema#string')), rdflib.term.Literal('Village Of Wellington', datatype=rdflib.term.URIRef('http://www.w3.org/2001/XMLSchema#string')), rdflib.term.Literal('4', datatype=rdflib.term.URIRef('http://www.w3.org/2001/XMLSchema#integer'))]\n",
      "[rdflib.term.Literal('Austin', datatype=rdflib.term.URIRef('http://www.w3.org/2001/XMLSchema#string')), rdflib.term.Literal('Village Of Wellington', datatype=rdflib.term.URIRef('http://www.w3.org/2001/XMLSchema#string')), rdflib.term.Literal('4', datatype=rdflib.term.URIRef('http://www.w3.org/2001/XMLSchema#integer'))]\n",
      "[rdflib.term.Literal('Kent', datatype=rdflib.term.URIRef('http://www.w3.org/2001/XMLSchema#string')), rdflib.term.Literal('WA', datatype=rdflib.term.URIRef('http://www.w3.org/2001/XMLSchema#string')), rdflib.term.Literal('1', datatype=rdflib.term.URIRef('http://www.w3.org/2001/XMLSchema#integer'))]\n",
      "[rdflib.term.Literal('Langley', datatype=rdflib.term.URIRef('http://www.w3.org/2001/XMLSchema#string')), rdflib.term.Literal('WA', datatype=rdflib.term.URIRef('http://www.w3.org/2001/XMLSchema#string')), rdflib.term.Literal('1', datatype=rdflib.term.URIRef('http://www.w3.org/2001/XMLSchema#integer'))]\n",
      "[rdflib.term.Literal('Seattle', datatype=rdflib.term.URIRef('http://www.w3.org/2001/XMLSchema#string')), rdflib.term.Literal('WA', datatype=rdflib.term.URIRef('http://www.w3.org/2001/XMLSchema#string')), rdflib.term.Literal('2', datatype=rdflib.term.URIRef('http://www.w3.org/2001/XMLSchema#integer'))]\n",
      "[rdflib.term.Literal('Wausau', datatype=rdflib.term.URIRef('http://www.w3.org/2001/XMLSchema#string')), rdflib.term.Literal('WI', datatype=rdflib.term.URIRef('http://www.w3.org/2001/XMLSchema#string')), rdflib.term.Literal('1', datatype=rdflib.term.URIRef('http://www.w3.org/2001/XMLSchema#integer'))]\n",
      "[rdflib.term.Literal('Barboursville', datatype=rdflib.term.URIRef('http://www.w3.org/2001/XMLSchema#string')), rdflib.term.Literal('WV', datatype=rdflib.term.URIRef('http://www.w3.org/2001/XMLSchema#string')), rdflib.term.Literal('1', datatype=rdflib.term.URIRef('http://www.w3.org/2001/XMLSchema#integer'))]\n",
      "[rdflib.term.Literal('Laconia', datatype=rdflib.term.URIRef('http://www.w3.org/2001/XMLSchema#string')), rdflib.term.Literal('Weirs Beach', datatype=rdflib.term.URIRef('http://www.w3.org/2001/XMLSchema#string')), rdflib.term.Literal('1', datatype=rdflib.term.URIRef('http://www.w3.org/2001/XMLSchema#integer'))]\n"
     ]
    }
   ],
   "source": [
    "##CSV files created in Task SPARQL (csv format).\n",
    "SPARQLQuery_SubTask_3(queryfile.replace(\".csv\", \"-\"+task)+\"query-results-numofrestaurants.csv\")"
   ]
  },
  {
   "cell_type": "markdown",
   "id": "88066cae",
   "metadata": {},
   "source": [
    "### Average Pizza price per restaurant"
   ]
  },
  {
   "cell_type": "code",
   "execution_count": 13,
   "id": "a0b43177",
   "metadata": {},
   "outputs": [],
   "source": [
    "def SPARQLQuery_SubTask_4(file_query_out):\n",
    "    qres = dependecies_task.g.query(\n",
    "        '''\n",
    "        PREFIX rdf: <http://www.w3.org/1999/02/22-rdf-syntax-ns#>\n",
    "        PREFIX cw: <http://www.semanticweb.org/in3067-inm713/restaurants#>\n",
    "        SELECT DISTINCT ?restaurant ?city (AVG(?price) AS ?value_avg) WHERE { \n",
    "            ?rest rdf:type cw:Restaurant ;\n",
    "                cw:servesMenuItem ?menuItem .\n",
    "                \n",
    "            ?rest cw:restaurantName ?restaurant .\n",
    "            ?rest cw:City ?city .\n",
    "            \n",
    "            ?menuItem rdf:type cw:MenuItem;\n",
    "                    cw:amount ?price .\n",
    "        } \n",
    "        GROUP BY ?restaurant ?city \n",
    "        ORDER BY ASC(?city) ASC(?value_avg)\n",
    "\n",
    "        '''\n",
    "\n",
    "    )\n",
    "    print(\"%s capitals satisfying the query.\" % (str(len(qres))))\n",
    "\n",
    "    header = ['Restaurant Name', 'City', 'Average price']\n",
    "\n",
    "    with open(file_query_out,\"w\", encoding=\"UTF-8\") as f:\n",
    "        writeQuery = csv.writer(f)\n",
    "        writeQuery.writerow(header)\n",
    "\n",
    "        for row in qres:\n",
    "            #Row is a list of matched RDF terms: URIs, literals or blank nodes\n",
    "            line_str = [row.restaurant, row.city, row.value_avg]\n",
    "            print(line_str)\n",
    "\n",
    "            writeQuery.writerow(line_str)"
   ]
  },
  {
   "cell_type": "code",
   "execution_count": 14,
   "id": "06f4d910",
   "metadata": {},
   "outputs": [
    {
     "name": "stdout",
     "output_type": "stream",
     "text": [
      "139 capitals satisfying the query.\n",
      "[rdflib.term.Literal(\"Casino's Pizza\", datatype=rdflib.term.URIRef('http://www.w3.org/2001/XMLSchema#string')), rdflib.term.Literal('Addison', datatype=rdflib.term.URIRef('http://www.w3.org/2001/XMLSchema#string')), rdflib.term.Literal('4.73', datatype=rdflib.term.URIRef('http://www.w3.org/2001/XMLSchema#double'))]\n",
      "[rdflib.term.Literal('The Fire Den', datatype=rdflib.term.URIRef('http://www.w3.org/2001/XMLSchema#string')), rdflib.term.Literal('Alameda', datatype=rdflib.term.URIRef('http://www.w3.org/2001/XMLSchema#string')), rdflib.term.Literal('17.635200000000005', datatype=rdflib.term.URIRef('http://www.w3.org/2001/XMLSchema#double'))]\n",
      "[rdflib.term.Literal('La Hacienda', datatype=rdflib.term.URIRef('http://www.w3.org/2001/XMLSchema#string')), rdflib.term.Literal('Americus', datatype=rdflib.term.URIRef('http://www.w3.org/2001/XMLSchema#string')), rdflib.term.Literal('6.275', datatype=rdflib.term.URIRef('http://www.w3.org/2001/XMLSchema#double'))]\n",
      "[rdflib.term.Literal(\"Imo's Pizza\", datatype=rdflib.term.URIRef('http://www.w3.org/2001/XMLSchema#string')), rdflib.term.Literal('Arnold', datatype=rdflib.term.URIRef('http://www.w3.org/2001/XMLSchema#string')), rdflib.term.Literal('10.750869565217391', datatype=rdflib.term.URIRef('http://www.w3.org/2001/XMLSchema#double'))]\n",
      "[rdflib.term.Literal('Glutenfree Things', datatype=rdflib.term.URIRef('http://www.w3.org/2001/XMLSchema#string')), rdflib.term.Literal('Arvada', datatype=rdflib.term.URIRef('http://www.w3.org/2001/XMLSchema#string')), rdflib.term.Literal('7.99', datatype=rdflib.term.URIRef('http://www.w3.org/2001/XMLSchema#double'))]\n",
      "[rdflib.term.Literal('Martinizing', datatype=rdflib.term.URIRef('http://www.w3.org/2001/XMLSchema#string')), rdflib.term.Literal('Arvada', datatype=rdflib.term.URIRef('http://www.w3.org/2001/XMLSchema#string')), rdflib.term.Literal('13.559333333333335', datatype=rdflib.term.URIRef('http://www.w3.org/2001/XMLSchema#double'))]\n",
      "[rdflib.term.Literal('Steinway Pizza', datatype=rdflib.term.URIRef('http://www.w3.org/2001/XMLSchema#string')), rdflib.term.Literal('Astoria', datatype=rdflib.term.URIRef('http://www.w3.org/2001/XMLSchema#string')), rdflib.term.Literal('15.883636363636363', datatype=rdflib.term.URIRef('http://www.w3.org/2001/XMLSchema#double'))]\n",
      "[rdflib.term.Literal(\"Austin's Pizza\", datatype=rdflib.term.URIRef('http://www.w3.org/2001/XMLSchema#string')), rdflib.term.Literal('Austin', datatype=rdflib.term.URIRef('http://www.w3.org/2001/XMLSchema#string')), rdflib.term.Literal('11.223333333333334', datatype=rdflib.term.URIRef('http://www.w3.org/2001/XMLSchema#double'))]\n",
      "[rdflib.term.Literal('California Pizza Kitchen', datatype=rdflib.term.URIRef('http://www.w3.org/2001/XMLSchema#string')), rdflib.term.Literal('Austin', datatype=rdflib.term.URIRef('http://www.w3.org/2001/XMLSchema#string')), rdflib.term.Literal('16.0636', datatype=rdflib.term.URIRef('http://www.w3.org/2001/XMLSchema#double'))]\n",
      "[rdflib.term.Literal(\"Cristy's Pizza\", datatype=rdflib.term.URIRef('http://www.w3.org/2001/XMLSchema#string')), rdflib.term.Literal('Baltimore', datatype=rdflib.term.URIRef('http://www.w3.org/2001/XMLSchema#string')), rdflib.term.Literal('16.997368421052627', datatype=rdflib.term.URIRef('http://www.w3.org/2001/XMLSchema#double'))]\n",
      "[rdflib.term.Literal(\"Tascali's Decades Pasta & Grill\", datatype=rdflib.term.URIRef('http://www.w3.org/2001/XMLSchema#string')), rdflib.term.Literal('Barboursville', datatype=rdflib.term.URIRef('http://www.w3.org/2001/XMLSchema#string')), rdflib.term.Literal('5.351666666666667', datatype=rdflib.term.URIRef('http://www.w3.org/2001/XMLSchema#double'))]\n",
      "[rdflib.term.Literal('Little Pizza Paradise', datatype=rdflib.term.URIRef('http://www.w3.org/2001/XMLSchema#string')), rdflib.term.Literal('Bend', datatype=rdflib.term.URIRef('http://www.w3.org/2001/XMLSchema#string')), rdflib.term.Literal('10.158888888888887', datatype=rdflib.term.URIRef('http://www.w3.org/2001/XMLSchema#double'))]\n",
      "[rdflib.term.Literal('Art Cafe', datatype=rdflib.term.URIRef('http://www.w3.org/2001/XMLSchema#string')), rdflib.term.Literal('Bethlehem', datatype=rdflib.term.URIRef('http://www.w3.org/2001/XMLSchema#string')), rdflib.term.Literal('7.0', datatype=rdflib.term.URIRef('http://www.w3.org/2001/XMLSchema#double'))]\n",
      "[rdflib.term.Literal('Town Pub', datatype=rdflib.term.URIRef('http://www.w3.org/2001/XMLSchema#string')), rdflib.term.Literal('Bloomfield', datatype=rdflib.term.URIRef('http://www.w3.org/2001/XMLSchema#string')), rdflib.term.Literal('12.99', datatype=rdflib.term.URIRef('http://www.w3.org/2001/XMLSchema#double'))]\n",
      "[rdflib.term.Literal(\"Fazoli's\", datatype=rdflib.term.URIRef('http://www.w3.org/2001/XMLSchema#string')), rdflib.term.Literal('Bloomington', datatype=rdflib.term.URIRef('http://www.w3.org/2001/XMLSchema#string')), rdflib.term.Literal('7.5', datatype=rdflib.term.URIRef('http://www.w3.org/2001/XMLSchema#double'))]\n",
      "[rdflib.term.Literal('Tavern On The Square', datatype=rdflib.term.URIRef('http://www.w3.org/2001/XMLSchema#string')), rdflib.term.Literal('Bothell', datatype=rdflib.term.URIRef('http://www.w3.org/2001/XMLSchema#string')), rdflib.term.Literal('11.0', datatype=rdflib.term.URIRef('http://www.w3.org/2001/XMLSchema#double'))]\n",
      "[rdflib.term.Literal('Bronson Strike Zone', datatype=rdflib.term.URIRef('http://www.w3.org/2001/XMLSchema#string')), rdflib.term.Literal('Bronson', datatype=rdflib.term.URIRef('http://www.w3.org/2001/XMLSchema#string')), rdflib.term.Literal('8.74', datatype=rdflib.term.URIRef('http://www.w3.org/2001/XMLSchema#double'))]\n",
      "[rdflib.term.Literal('Lineage - Permanently Closed', datatype=rdflib.term.URIRef('http://www.w3.org/2001/XMLSchema#string')), rdflib.term.Literal('Brookline', datatype=rdflib.term.URIRef('http://www.w3.org/2001/XMLSchema#string')), rdflib.term.Literal('14.0', datatype=rdflib.term.URIRef('http://www.w3.org/2001/XMLSchema#double'))]\n",
      "[rdflib.term.Literal(\"Brando's Pizza\", datatype=rdflib.term.URIRef('http://www.w3.org/2001/XMLSchema#string')), rdflib.term.Literal('Buffalo', datatype=rdflib.term.URIRef('http://www.w3.org/2001/XMLSchema#string')), rdflib.term.Literal('8.194', datatype=rdflib.term.URIRef('http://www.w3.org/2001/XMLSchema#double'))]\n",
      "[rdflib.term.Literal('Uno Pizzeria & Grill', datatype=rdflib.term.URIRef('http://www.w3.org/2001/XMLSchema#string')), rdflib.term.Literal('Burlington', datatype=rdflib.term.URIRef('http://www.w3.org/2001/XMLSchema#string')), rdflib.term.Literal('10.767777777777777', datatype=rdflib.term.URIRef('http://www.w3.org/2001/XMLSchema#double'))]\n",
      "[rdflib.term.Literal(\"Doubledave's Pizzaworks\", datatype=rdflib.term.URIRef('http://www.w3.org/2001/XMLSchema#string')), rdflib.term.Literal('Cedar Park', datatype=rdflib.term.URIRef('http://www.w3.org/2001/XMLSchema#string')), rdflib.term.Literal('9.130555555555553', datatype=rdflib.term.URIRef('http://www.w3.org/2001/XMLSchema#double'))]\n",
      "[rdflib.term.Literal(\"Hungry Howie's Pizza\", datatype=rdflib.term.URIRef('http://www.w3.org/2001/XMLSchema#string')), rdflib.term.Literal('Chandler', datatype=rdflib.term.URIRef('http://www.w3.org/2001/XMLSchema#string')), rdflib.term.Literal('7.713000000000001', datatype=rdflib.term.URIRef('http://www.w3.org/2001/XMLSchema#double'))]\n",
      "[rdflib.term.Literal(\"Antonio's Pizza\", datatype=rdflib.term.URIRef('http://www.w3.org/2001/XMLSchema#string')), rdflib.term.Literal('Chatham', datatype=rdflib.term.URIRef('http://www.w3.org/2001/XMLSchema#string')), rdflib.term.Literal('11.89321428571429', datatype=rdflib.term.URIRef('http://www.w3.org/2001/XMLSchema#double'))]\n",
      "[rdflib.term.Literal('Potbelly Sandwich Shop', datatype=rdflib.term.URIRef('http://www.w3.org/2001/XMLSchema#string')), rdflib.term.Literal('Chicago', datatype=rdflib.term.URIRef('http://www.w3.org/2001/XMLSchema#string')), rdflib.term.Literal('5.55', datatype=rdflib.term.URIRef('http://www.w3.org/2001/XMLSchema#double'))]\n",
      "[rdflib.term.Literal(\"Francesca's On Chestnut\", datatype=rdflib.term.URIRef('http://www.w3.org/2001/XMLSchema#string')), rdflib.term.Literal('Chicago', datatype=rdflib.term.URIRef('http://www.w3.org/2001/XMLSchema#string')), rdflib.term.Literal('12.469999999999999', datatype=rdflib.term.URIRef('http://www.w3.org/2001/XMLSchema#double'))]\n",
      "[rdflib.term.Literal(\"Larosa's Pizzeria\", datatype=rdflib.term.URIRef('http://www.w3.org/2001/XMLSchema#string')), rdflib.term.Literal('Cincinnati', datatype=rdflib.term.URIRef('http://www.w3.org/2001/XMLSchema#string')), rdflib.term.Literal('4.39', datatype=rdflib.term.URIRef('http://www.w3.org/2001/XMLSchema#double'))]\n",
      "[rdflib.term.Literal(\"Oh' Brian's on the Green\", datatype=rdflib.term.URIRef('http://www.w3.org/2001/XMLSchema#string')), rdflib.term.Literal('Clark', datatype=rdflib.term.URIRef('http://www.w3.org/2001/XMLSchema#string')), rdflib.term.Literal('13.524375000000001', datatype=rdflib.term.URIRef('http://www.w3.org/2001/XMLSchema#double'))]\n",
      "[rdflib.term.Literal(\"Original Giorgio's\", datatype=rdflib.term.URIRef('http://www.w3.org/2001/XMLSchema#string')), rdflib.term.Literal('Cockeysville', datatype=rdflib.term.URIRef('http://www.w3.org/2001/XMLSchema#string')), rdflib.term.Literal('11.866969696969704', datatype=rdflib.term.URIRef('http://www.w3.org/2001/XMLSchema#double'))]\n",
      "[rdflib.term.Literal(\"Doubledave's Pizza Works\", datatype=rdflib.term.URIRef('http://www.w3.org/2001/XMLSchema#string')), rdflib.term.Literal('College Station', datatype=rdflib.term.URIRef('http://www.w3.org/2001/XMLSchema#string')), rdflib.term.Literal('9.130555555555553', datatype=rdflib.term.URIRef('http://www.w3.org/2001/XMLSchema#double'))]\n",
      "[rdflib.term.Literal('Spagio', datatype=rdflib.term.URIRef('http://www.w3.org/2001/XMLSchema#string')), rdflib.term.Literal('Columbus', datatype=rdflib.term.URIRef('http://www.w3.org/2001/XMLSchema#string')), rdflib.term.Literal('17.494999999999997', datatype=rdflib.term.URIRef('http://www.w3.org/2001/XMLSchema#double'))]\n",
      "[rdflib.term.Literal('The Italian Oven', datatype=rdflib.term.URIRef('http://www.w3.org/2001/XMLSchema#string')), rdflib.term.Literal('Connellsville', datatype=rdflib.term.URIRef('http://www.w3.org/2001/XMLSchema#string')), rdflib.term.Literal('4.54625', datatype=rdflib.term.URIRef('http://www.w3.org/2001/XMLSchema#double'))]\n",
      "[rdflib.term.Literal('Supreme Roast Beef & Sea Food', datatype=rdflib.term.URIRef('http://www.w3.org/2001/XMLSchema#string')), rdflib.term.Literal('Danvers', datatype=rdflib.term.URIRef('http://www.w3.org/2001/XMLSchema#string')), rdflib.term.Literal('1.5125000000000002', datatype=rdflib.term.URIRef('http://www.w3.org/2001/XMLSchema#double'))]\n",
      "[rdflib.term.Literal('Grassfields Bar & Grill', datatype=rdflib.term.URIRef('http://www.w3.org/2001/XMLSchema#string')), rdflib.term.Literal('Danvers', datatype=rdflib.term.URIRef('http://www.w3.org/2001/XMLSchema#string')), rdflib.term.Literal('8.99', datatype=rdflib.term.URIRef('http://www.w3.org/2001/XMLSchema#double'))]\n",
      "[rdflib.term.Literal('China Kitchen', datatype=rdflib.term.URIRef('http://www.w3.org/2001/XMLSchema#string')), rdflib.term.Literal('Denver', datatype=rdflib.term.URIRef('http://www.w3.org/2001/XMLSchema#string')), rdflib.term.Literal('1.5125000000000002', datatype=rdflib.term.URIRef('http://www.w3.org/2001/XMLSchema#double'))]\n",
      "[rdflib.term.Literal('Mellow Mushroom Pizza Bakers', datatype=rdflib.term.URIRef('http://www.w3.org/2001/XMLSchema#string')), rdflib.term.Literal('Denver', datatype=rdflib.term.URIRef('http://www.w3.org/2001/XMLSchema#string')), rdflib.term.Literal('11.447999999999997', datatype=rdflib.term.URIRef('http://www.w3.org/2001/XMLSchema#double'))]\n",
      "[rdflib.term.Literal('Midori Japanese Restaurant', datatype=rdflib.term.URIRef('http://www.w3.org/2001/XMLSchema#string')), rdflib.term.Literal('Denville', datatype=rdflib.term.URIRef('http://www.w3.org/2001/XMLSchema#string')), rdflib.term.Literal('10.95', datatype=rdflib.term.URIRef('http://www.w3.org/2001/XMLSchema#double'))]\n",
      "[rdflib.term.Literal('Brothers 2', datatype=rdflib.term.URIRef('http://www.w3.org/2001/XMLSchema#string')), rdflib.term.Literal('Endicott', datatype=rdflib.term.URIRef('http://www.w3.org/2001/XMLSchema#string')), rdflib.term.Literal('17.899090909090912', datatype=rdflib.term.URIRef('http://www.w3.org/2001/XMLSchema#double'))]\n",
      "[rdflib.term.Literal('Hunan Gourmet', datatype=rdflib.term.URIRef('http://www.w3.org/2001/XMLSchema#string')), rdflib.term.Literal('Englishtown', datatype=rdflib.term.URIRef('http://www.w3.org/2001/XMLSchema#string')), rdflib.term.Literal('12.0', datatype=rdflib.term.URIRef('http://www.w3.org/2001/XMLSchema#double'))]\n",
      "[rdflib.term.Literal('Sluggers Sports Bar', datatype=rdflib.term.URIRef('http://www.w3.org/2001/XMLSchema#string')), rdflib.term.Literal('Erie', datatype=rdflib.term.URIRef('http://www.w3.org/2001/XMLSchema#string')), rdflib.term.Literal('5.49', datatype=rdflib.term.URIRef('http://www.w3.org/2001/XMLSchema#double'))]\n",
      "[rdflib.term.Literal('Booies Pizza', datatype=rdflib.term.URIRef('http://www.w3.org/2001/XMLSchema#string')), rdflib.term.Literal('Erie', datatype=rdflib.term.URIRef('http://www.w3.org/2001/XMLSchema#string')), rdflib.term.Literal('20.434444444444445', datatype=rdflib.term.URIRef('http://www.w3.org/2001/XMLSchema#double'))]\n",
      "[rdflib.term.Literal('Prima Pizza', datatype=rdflib.term.URIRef('http://www.w3.org/2001/XMLSchema#string')), rdflib.term.Literal('Essex', datatype=rdflib.term.URIRef('http://www.w3.org/2001/XMLSchema#string')), rdflib.term.Literal('9.631111111111112', datatype=rdflib.term.URIRef('http://www.w3.org/2001/XMLSchema#double'))]\n",
      "[rdflib.term.Literal('Tomato & Basil', datatype=rdflib.term.URIRef('http://www.w3.org/2001/XMLSchema#string')), rdflib.term.Literal('Fairfield', datatype=rdflib.term.URIRef('http://www.w3.org/2001/XMLSchema#string')), rdflib.term.Literal('9.519444444444442', datatype=rdflib.term.URIRef('http://www.w3.org/2001/XMLSchema#double'))]\n",
      "[rdflib.term.Literal('Tavern At The Inn', datatype=rdflib.term.URIRef('http://www.w3.org/2001/XMLSchema#string')), rdflib.term.Literal('Findlay', datatype=rdflib.term.URIRef('http://www.w3.org/2001/XMLSchema#string')), rdflib.term.Literal('9.666666666666666', datatype=rdflib.term.URIRef('http://www.w3.org/2001/XMLSchema#double'))]\n",
      "[rdflib.term.Literal('Kyoto Sushi', datatype=rdflib.term.URIRef('http://www.w3.org/2001/XMLSchema#string')), rdflib.term.Literal('Flushing', datatype=rdflib.term.URIRef('http://www.w3.org/2001/XMLSchema#string')), rdflib.term.Literal('12.95', datatype=rdflib.term.URIRef('http://www.w3.org/2001/XMLSchema#double'))]\n",
      "[rdflib.term.Literal('Blockbuster', datatype=rdflib.term.URIRef('http://www.w3.org/2001/XMLSchema#string')), rdflib.term.Literal('Gainesville', datatype=rdflib.term.URIRef('http://www.w3.org/2001/XMLSchema#string')), rdflib.term.Literal('6.436', datatype=rdflib.term.URIRef('http://www.w3.org/2001/XMLSchema#double'))]\n",
      "[rdflib.term.Literal(\"Uncle John's Pizza\", datatype=rdflib.term.URIRef('http://www.w3.org/2001/XMLSchema#string')), rdflib.term.Literal('Grand Prairie', datatype=rdflib.term.URIRef('http://www.w3.org/2001/XMLSchema#string')), rdflib.term.Literal('9.95', datatype=rdflib.term.URIRef('http://www.w3.org/2001/XMLSchema#double'))]\n",
      "[rdflib.term.Literal('Baglianis Food Market', datatype=rdflib.term.URIRef('http://www.w3.org/2001/XMLSchema#string')), rdflib.term.Literal('Hammonton', datatype=rdflib.term.URIRef('http://www.w3.org/2001/XMLSchema#string')), rdflib.term.Literal('7.2457142857142856', datatype=rdflib.term.URIRef('http://www.w3.org/2001/XMLSchema#double'))]\n",
      "[rdflib.term.Literal('The Spud Spot', datatype=rdflib.term.URIRef('http://www.w3.org/2001/XMLSchema#string')), rdflib.term.Literal('Harvey', datatype=rdflib.term.URIRef('http://www.w3.org/2001/XMLSchema#string')), rdflib.term.Literal('20.434444444444445', datatype=rdflib.term.URIRef('http://www.w3.org/2001/XMLSchema#double'))]\n",
      "[rdflib.term.Literal(\"Joey's N Y Pizza\", datatype=rdflib.term.URIRef('http://www.w3.org/2001/XMLSchema#string')), rdflib.term.Literal('Henderson', datatype=rdflib.term.URIRef('http://www.w3.org/2001/XMLSchema#string')), rdflib.term.Literal('14.70315789473684', datatype=rdflib.term.URIRef('http://www.w3.org/2001/XMLSchema#double'))]\n",
      "[rdflib.term.Literal(\"Patrick Molloy's Sports Pub\", datatype=rdflib.term.URIRef('http://www.w3.org/2001/XMLSchema#string')), rdflib.term.Literal('Hermosa Beach', datatype=rdflib.term.URIRef('http://www.w3.org/2001/XMLSchema#string')), rdflib.term.Literal('9.558421052631576', datatype=rdflib.term.URIRef('http://www.w3.org/2001/XMLSchema#double'))]\n",
      "[rdflib.term.Literal('Buon Cibo', datatype=rdflib.term.URIRef('http://www.w3.org/2001/XMLSchema#string')), rdflib.term.Literal('Hernando', datatype=rdflib.term.URIRef('http://www.w3.org/2001/XMLSchema#string')), rdflib.term.Literal('9.86458333333333', datatype=rdflib.term.URIRef('http://www.w3.org/2001/XMLSchema#double'))]\n",
      "[rdflib.term.Literal('Rancho Viejo Mexican Grill', datatype=rdflib.term.URIRef('http://www.w3.org/2001/XMLSchema#string')), rdflib.term.Literal('Hickory', datatype=rdflib.term.URIRef('http://www.w3.org/2001/XMLSchema#string')), rdflib.term.Literal('6.275', datatype=rdflib.term.URIRef('http://www.w3.org/2001/XMLSchema#double'))]\n",
      "[rdflib.term.Literal('The Hamilton Inn', datatype=rdflib.term.URIRef('http://www.w3.org/2001/XMLSchema#string')), rdflib.term.Literal('Hoboken', datatype=rdflib.term.URIRef('http://www.w3.org/2001/XMLSchema#string')), rdflib.term.Literal('14.0', datatype=rdflib.term.URIRef('http://www.w3.org/2001/XMLSchema#double'))]\n",
      "[rdflib.term.Literal('Baldinelli Pizza', datatype=rdflib.term.URIRef('http://www.w3.org/2001/XMLSchema#string')), rdflib.term.Literal('Homer Glen', datatype=rdflib.term.URIRef('http://www.w3.org/2001/XMLSchema#string')), rdflib.term.Literal('5.03', datatype=rdflib.term.URIRef('http://www.w3.org/2001/XMLSchema#double'))]\n",
      "[rdflib.term.Literal(\"Lucky's Pub\", datatype=rdflib.term.URIRef('http://www.w3.org/2001/XMLSchema#string')), rdflib.term.Literal('Houston', datatype=rdflib.term.URIRef('http://www.w3.org/2001/XMLSchema#string')), rdflib.term.Literal('9.95', datatype=rdflib.term.URIRef('http://www.w3.org/2001/XMLSchema#double'))]\n",
      "[rdflib.term.Literal('Roadhouse Cafe', datatype=rdflib.term.URIRef('http://www.w3.org/2001/XMLSchema#string')), rdflib.term.Literal('Hyannis', datatype=rdflib.term.URIRef('http://www.w3.org/2001/XMLSchema#string')), rdflib.term.Literal('9.989130434782606', datatype=rdflib.term.URIRef('http://www.w3.org/2001/XMLSchema#double'))]\n",
      "[rdflib.term.Literal(\"Greek's Pizzeria\", datatype=rdflib.term.URIRef('http://www.w3.org/2001/XMLSchema#string')), rdflib.term.Literal('Indianapolis', datatype=rdflib.term.URIRef('http://www.w3.org/2001/XMLSchema#string')), rdflib.term.Literal('11.547500000000001', datatype=rdflib.term.URIRef('http://www.w3.org/2001/XMLSchema#double'))]\n",
      "[rdflib.term.Literal('Zpizza', datatype=rdflib.term.URIRef('http://www.w3.org/2001/XMLSchema#string')), rdflib.term.Literal('Irvine', datatype=rdflib.term.URIRef('http://www.w3.org/2001/XMLSchema#string')), rdflib.term.Literal('15.75', datatype=rdflib.term.URIRef('http://www.w3.org/2001/XMLSchema#double'))]\n",
      "[rdflib.term.Literal('Bosses Pizza - Keller', datatype=rdflib.term.URIRef('http://www.w3.org/2001/XMLSchema#string')), rdflib.term.Literal('Keller', datatype=rdflib.term.URIRef('http://www.w3.org/2001/XMLSchema#string')), rdflib.term.Literal('5.375', datatype=rdflib.term.URIRef('http://www.w3.org/2001/XMLSchema#double'))]\n",
      "[rdflib.term.Literal('Kennebunk House Of Pizza', datatype=rdflib.term.URIRef('http://www.w3.org/2001/XMLSchema#string')), rdflib.term.Literal('Kennebunk', datatype=rdflib.term.URIRef('http://www.w3.org/2001/XMLSchema#string')), rdflib.term.Literal('18.275', datatype=rdflib.term.URIRef('http://www.w3.org/2001/XMLSchema#double'))]\n",
      "[rdflib.term.Literal('Keyme', datatype=rdflib.term.URIRef('http://www.w3.org/2001/XMLSchema#string')), rdflib.term.Literal('Kent', datatype=rdflib.term.URIRef('http://www.w3.org/2001/XMLSchema#string')), rdflib.term.Literal('2.125', datatype=rdflib.term.URIRef('http://www.w3.org/2001/XMLSchema#double'))]\n",
      "[rdflib.term.Literal(\"Michael's Jewish Delicatessen\", datatype=rdflib.term.URIRef('http://www.w3.org/2001/XMLSchema#string')), rdflib.term.Literal('King Of Prussia', datatype=rdflib.term.URIRef('http://www.w3.org/2001/XMLSchema#string')), rdflib.term.Literal('7.2457142857142856', datatype=rdflib.term.URIRef('http://www.w3.org/2001/XMLSchema#double'))]\n",
      "[rdflib.term.Literal('Cafe Veloce', datatype=rdflib.term.URIRef('http://www.w3.org/2001/XMLSchema#string')), rdflib.term.Literal('Kirkland', datatype=rdflib.term.URIRef('http://www.w3.org/2001/XMLSchema#string')), rdflib.term.Literal('10.0', datatype=rdflib.term.URIRef('http://www.w3.org/2001/XMLSchema#double'))]\n",
      "[rdflib.term.Literal('Tower Hill Tavern', datatype=rdflib.term.URIRef('http://www.w3.org/2001/XMLSchema#string')), rdflib.term.Literal('Laconia', datatype=rdflib.term.URIRef('http://www.w3.org/2001/XMLSchema#string')), rdflib.term.Literal('20.434444444444445', datatype=rdflib.term.URIRef('http://www.w3.org/2001/XMLSchema#double'))]\n",
      "[rdflib.term.Literal(\"Fox's Pizza Den\", datatype=rdflib.term.URIRef('http://www.w3.org/2001/XMLSchema#string')), rdflib.term.Literal('Lafayette', datatype=rdflib.term.URIRef('http://www.w3.org/2001/XMLSchema#string')), rdflib.term.Literal('10.189230769230768', datatype=rdflib.term.URIRef('http://www.w3.org/2001/XMLSchema#double'))]\n",
      "[rdflib.term.Literal('I Love Bagels', datatype=rdflib.term.URIRef('http://www.w3.org/2001/XMLSchema#string')), rdflib.term.Literal('Laguna Niguel', datatype=rdflib.term.URIRef('http://www.w3.org/2001/XMLSchema#string')), rdflib.term.Literal('2.95', datatype=rdflib.term.URIRef('http://www.w3.org/2001/XMLSchema#double'))]\n",
      "[rdflib.term.Literal(\"Mo's Pub Eatery\", datatype=rdflib.term.URIRef('http://www.w3.org/2001/XMLSchema#string')), rdflib.term.Literal('Langley', datatype=rdflib.term.URIRef('http://www.w3.org/2001/XMLSchema#string')), rdflib.term.Literal('19.141', datatype=rdflib.term.URIRef('http://www.w3.org/2001/XMLSchema#double'))]\n",
      "[rdflib.term.Literal('D. Vino Italian Food and Wine Bar - Monte Carlo', datatype=rdflib.term.URIRef('http://www.w3.org/2001/XMLSchema#string')), rdflib.term.Literal('Las Vegas', datatype=rdflib.term.URIRef('http://www.w3.org/2001/XMLSchema#string')), rdflib.term.Literal('17.66333333333333', datatype=rdflib.term.URIRef('http://www.w3.org/2001/XMLSchema#double'))]\n",
      "[rdflib.term.Literal(\"Nino's Trattoria & Pizzeria\", datatype=rdflib.term.URIRef('http://www.w3.org/2001/XMLSchema#string')), rdflib.term.Literal('Lawrence Township', datatype=rdflib.term.URIRef('http://www.w3.org/2001/XMLSchema#string')), rdflib.term.Literal('11.804531250000007', datatype=rdflib.term.URIRef('http://www.w3.org/2001/XMLSchema#double'))]\n",
      "[rdflib.term.Literal(\"Abo's Pizza\", datatype=rdflib.term.URIRef('http://www.w3.org/2001/XMLSchema#string')), rdflib.term.Literal('Littleton', datatype=rdflib.term.URIRef('http://www.w3.org/2001/XMLSchema#string')), rdflib.term.Literal('15.05888888888889', datatype=rdflib.term.URIRef('http://www.w3.org/2001/XMLSchema#double'))]\n",
      "[rdflib.term.Literal('Bravo Pizza Hollywood', datatype=rdflib.term.URIRef('http://www.w3.org/2001/XMLSchema#string')), rdflib.term.Literal('Los Angeles', datatype=rdflib.term.URIRef('http://www.w3.org/2001/XMLSchema#string')), rdflib.term.Literal('11.011470588235294', datatype=rdflib.term.URIRef('http://www.w3.org/2001/XMLSchema#double'))]\n",
      "[rdflib.term.Literal('The Brentwood', datatype=rdflib.term.URIRef('http://www.w3.org/2001/XMLSchema#string')), rdflib.term.Literal('Los Angeles', datatype=rdflib.term.URIRef('http://www.w3.org/2001/XMLSchema#string')), rdflib.term.Literal('13.6', datatype=rdflib.term.URIRef('http://www.w3.org/2001/XMLSchema#double'))]\n",
      "[rdflib.term.Literal(\"Larosa's Pizzeria\", datatype=rdflib.term.URIRef('http://www.w3.org/2001/XMLSchema#string')), rdflib.term.Literal('Loveland', datatype=rdflib.term.URIRef('http://www.w3.org/2001/XMLSchema#string')), rdflib.term.Literal('4.39', datatype=rdflib.term.URIRef('http://www.w3.org/2001/XMLSchema#double'))]\n",
      "[rdflib.term.Literal(\"Salerno's Pizza Restaurant\", datatype=rdflib.term.URIRef('http://www.w3.org/2001/XMLSchema#string')), rdflib.term.Literal('Luzerne', datatype=rdflib.term.URIRef('http://www.w3.org/2001/XMLSchema#string')), rdflib.term.Literal('14.616666666666665', datatype=rdflib.term.URIRef('http://www.w3.org/2001/XMLSchema#double'))]\n",
      "[rdflib.term.Literal('Sir Pizza', datatype=rdflib.term.URIRef('http://www.w3.org/2001/XMLSchema#string')), rdflib.term.Literal('Madison', datatype=rdflib.term.URIRef('http://www.w3.org/2001/XMLSchema#string')), rdflib.term.Literal('13.559333333333335', datatype=rdflib.term.URIRef('http://www.w3.org/2001/XMLSchema#double'))]\n",
      "[rdflib.term.Literal('Nypd Pizza', datatype=rdflib.term.URIRef('http://www.w3.org/2001/XMLSchema#string')), rdflib.term.Literal('Maitland', datatype=rdflib.term.URIRef('http://www.w3.org/2001/XMLSchema#string')), rdflib.term.Literal('15.2225', datatype=rdflib.term.URIRef('http://www.w3.org/2001/XMLSchema#double'))]\n",
      "[rdflib.term.Literal('Pizza Bistro', datatype=rdflib.term.URIRef('http://www.w3.org/2001/XMLSchema#string')), rdflib.term.Literal('Massapequa Park', datatype=rdflib.term.URIRef('http://www.w3.org/2001/XMLSchema#string')), rdflib.term.Literal('20.5', datatype=rdflib.term.URIRef('http://www.w3.org/2001/XMLSchema#double'))]\n",
      "[rdflib.term.Literal('Little Italy Pizza', datatype=rdflib.term.URIRef('http://www.w3.org/2001/XMLSchema#string')), rdflib.term.Literal('Memphis', datatype=rdflib.term.URIRef('http://www.w3.org/2001/XMLSchema#string')), rdflib.term.Literal('13.559333333333335', datatype=rdflib.term.URIRef('http://www.w3.org/2001/XMLSchema#double'))]\n",
      "[rdflib.term.Literal(\"Giovanni's Pizza and Pasta\", datatype=rdflib.term.URIRef('http://www.w3.org/2001/XMLSchema#string')), rdflib.term.Literal('Menifee', datatype=rdflib.term.URIRef('http://www.w3.org/2001/XMLSchema#string')), rdflib.term.Literal('11.883888888888889', datatype=rdflib.term.URIRef('http://www.w3.org/2001/XMLSchema#double'))]\n",
      "[rdflib.term.Literal('Atheneos Greek Village Cafe', datatype=rdflib.term.URIRef('http://www.w3.org/2001/XMLSchema#string')), rdflib.term.Literal('Mesquite', datatype=rdflib.term.URIRef('http://www.w3.org/2001/XMLSchema#string')), rdflib.term.Literal('9.321052631578945', datatype=rdflib.term.URIRef('http://www.w3.org/2001/XMLSchema#double'))]\n",
      "[rdflib.term.Literal('Rosa Ii Pizzeria & Restaurant', datatype=rdflib.term.URIRef('http://www.w3.org/2001/XMLSchema#string')), rdflib.term.Literal('Middle Village', datatype=rdflib.term.URIRef('http://www.w3.org/2001/XMLSchema#string')), rdflib.term.Literal('2.125', datatype=rdflib.term.URIRef('http://www.w3.org/2001/XMLSchema#double'))]\n",
      "[rdflib.term.Literal(\"Gina Maria's Pizza\", datatype=rdflib.term.URIRef('http://www.w3.org/2001/XMLSchema#string')), rdflib.term.Literal('Minneapolis', datatype=rdflib.term.URIRef('http://www.w3.org/2001/XMLSchema#string')), rdflib.term.Literal('14.295555555555556', datatype=rdflib.term.URIRef('http://www.w3.org/2001/XMLSchema#double'))]\n",
      "[rdflib.term.Literal('Lake Bowl Inc', datatype=rdflib.term.URIRef('http://www.w3.org/2001/XMLSchema#string')), rdflib.term.Literal('Moses Lake', datatype=rdflib.term.URIRef('http://www.w3.org/2001/XMLSchema#string')), rdflib.term.Literal('5.0', datatype=rdflib.term.URIRef('http://www.w3.org/2001/XMLSchema#double'))]\n",
      "[rdflib.term.Literal(\"Tony Soprano's Pizza\", datatype=rdflib.term.URIRef('http://www.w3.org/2001/XMLSchema#string')), rdflib.term.Literal('Mount Laurel', datatype=rdflib.term.URIRef('http://www.w3.org/2001/XMLSchema#string')), rdflib.term.Literal('4.54625', datatype=rdflib.term.URIRef('http://www.w3.org/2001/XMLSchema#double'))]\n",
      "[rdflib.term.Literal(\"Pirate's Cove\", datatype=rdflib.term.URIRef('http://www.w3.org/2001/XMLSchema#string')), rdflib.term.Literal('Mount Vernon', datatype=rdflib.term.URIRef('http://www.w3.org/2001/XMLSchema#string')), rdflib.term.Literal('11.695', datatype=rdflib.term.URIRef('http://www.w3.org/2001/XMLSchema#double'))]\n",
      "[rdflib.term.Literal(\"Copeland's Cheescake Bistro\", datatype=rdflib.term.URIRef('http://www.w3.org/2001/XMLSchema#string')), rdflib.term.Literal('New Orleans', datatype=rdflib.term.URIRef('http://www.w3.org/2001/XMLSchema#string')), rdflib.term.Literal('4.970000000000001', datatype=rdflib.term.URIRef('http://www.w3.org/2001/XMLSchema#double'))]\n",
      "[rdflib.term.Literal(\"Patsy's Pizzeria\", datatype=rdflib.term.URIRef('http://www.w3.org/2001/XMLSchema#string')), rdflib.term.Literal('New York', datatype=rdflib.term.URIRef('http://www.w3.org/2001/XMLSchema#string')), rdflib.term.Literal('9.432941176470585', datatype=rdflib.term.URIRef('http://www.w3.org/2001/XMLSchema#double'))]\n",
      "[rdflib.term.Literal('Woolworth Tower Kitchen', datatype=rdflib.term.URIRef('http://www.w3.org/2001/XMLSchema#string')), rdflib.term.Literal('New York', datatype=rdflib.term.URIRef('http://www.w3.org/2001/XMLSchema#string')), rdflib.term.Literal('10.0', datatype=rdflib.term.URIRef('http://www.w3.org/2001/XMLSchema#double'))]\n",
      "[rdflib.term.Literal('Gran Morsi', datatype=rdflib.term.URIRef('http://www.w3.org/2001/XMLSchema#string')), rdflib.term.Literal('New York', datatype=rdflib.term.URIRef('http://www.w3.org/2001/XMLSchema#string')), rdflib.term.Literal('13.679333333333334', datatype=rdflib.term.URIRef('http://www.w3.org/2001/XMLSchema#double'))]\n",
      "[rdflib.term.Literal('Burgers & Cupcakes', datatype=rdflib.term.URIRef('http://www.w3.org/2001/XMLSchema#string')), rdflib.term.Literal('New York', datatype=rdflib.term.URIRef('http://www.w3.org/2001/XMLSchema#string')), rdflib.term.Literal('14.20444444444444', datatype=rdflib.term.URIRef('http://www.w3.org/2001/XMLSchema#double'))]\n",
      "[rdflib.term.Literal(\"John's of 12th Street\", datatype=rdflib.term.URIRef('http://www.w3.org/2001/XMLSchema#string')), rdflib.term.Literal('New York', datatype=rdflib.term.URIRef('http://www.w3.org/2001/XMLSchema#string')), rdflib.term.Literal('14.616666666666665', datatype=rdflib.term.URIRef('http://www.w3.org/2001/XMLSchema#double'))]\n",
      "[rdflib.term.Literal('Tre Restaurant & Wine Bar', datatype=rdflib.term.URIRef('http://www.w3.org/2001/XMLSchema#string')), rdflib.term.Literal('New York', datatype=rdflib.term.URIRef('http://www.w3.org/2001/XMLSchema#string')), rdflib.term.Literal('16.64333333333333', datatype=rdflib.term.URIRef('http://www.w3.org/2001/XMLSchema#double'))]\n",
      "[rdflib.term.Literal('Ming Garden Cocktails Chinese Restaurant', datatype=rdflib.term.URIRef('http://www.w3.org/2001/XMLSchema#string')), rdflib.term.Literal('Newark', datatype=rdflib.term.URIRef('http://www.w3.org/2001/XMLSchema#string')), rdflib.term.Literal('2.5', datatype=rdflib.term.URIRef('http://www.w3.org/2001/XMLSchema#double'))]\n",
      "[rdflib.term.Literal(\"Louie's Pizza\", datatype=rdflib.term.URIRef('http://www.w3.org/2001/XMLSchema#string')), rdflib.term.Literal('Newark', datatype=rdflib.term.URIRef('http://www.w3.org/2001/XMLSchema#string')), rdflib.term.Literal('4.5', datatype=rdflib.term.URIRef('http://www.w3.org/2001/XMLSchema#double'))]\n",
      "[rdflib.term.Literal('Broad Street Cafe', datatype=rdflib.term.URIRef('http://www.w3.org/2001/XMLSchema#string')), rdflib.term.Literal('Newark', datatype=rdflib.term.URIRef('http://www.w3.org/2001/XMLSchema#string')), rdflib.term.Literal('9.0', datatype=rdflib.term.URIRef('http://www.w3.org/2001/XMLSchema#double'))]\n",
      "[rdflib.term.Literal('Walnut Grille', datatype=rdflib.term.URIRef('http://www.w3.org/2001/XMLSchema#string')), rdflib.term.Literal('Newton Highlands', datatype=rdflib.term.URIRef('http://www.w3.org/2001/XMLSchema#string')), rdflib.term.Literal('11.333333333333334', datatype=rdflib.term.URIRef('http://www.w3.org/2001/XMLSchema#double'))]\n",
      "[rdflib.term.Literal('Zios Italian Kitchen - Olathe', datatype=rdflib.term.URIRef('http://www.w3.org/2001/XMLSchema#string')), rdflib.term.Literal('Olathe', datatype=rdflib.term.URIRef('http://www.w3.org/2001/XMLSchema#string')), rdflib.term.Literal('11.268666666666666', datatype=rdflib.term.URIRef('http://www.w3.org/2001/XMLSchema#double'))]\n",
      "[rdflib.term.Literal(\"Frank's Pizzeria\", datatype=rdflib.term.URIRef('http://www.w3.org/2001/XMLSchema#string')), rdflib.term.Literal('Omaha', datatype=rdflib.term.URIRef('http://www.w3.org/2001/XMLSchema#string')), rdflib.term.Literal('14.392307692307693', datatype=rdflib.term.URIRef('http://www.w3.org/2001/XMLSchema#double'))]\n",
      "[rdflib.term.Literal('The Lookout Catering', datatype=rdflib.term.URIRef('http://www.w3.org/2001/XMLSchema#string')), rdflib.term.Literal('Osseo', datatype=rdflib.term.URIRef('http://www.w3.org/2001/XMLSchema#string')), rdflib.term.Literal('9.989130434782606', datatype=rdflib.term.URIRef('http://www.w3.org/2001/XMLSchema#double'))]\n",
      "[rdflib.term.Literal('Little Caesars Pizza', datatype=rdflib.term.URIRef('http://www.w3.org/2001/XMLSchema#string')), rdflib.term.Literal('Pasadena', datatype=rdflib.term.URIRef('http://www.w3.org/2001/XMLSchema#string')), rdflib.term.Literal('8.0', datatype=rdflib.term.URIRef('http://www.w3.org/2001/XMLSchema#double'))]\n",
      "[rdflib.term.Literal('C19', datatype=rdflib.term.URIRef('http://www.w3.org/2001/XMLSchema#string')), rdflib.term.Literal('Philadelphia', datatype=rdflib.term.URIRef('http://www.w3.org/2001/XMLSchema#string')), rdflib.term.Literal('5.0', datatype=rdflib.term.URIRef('http://www.w3.org/2001/XMLSchema#double'))]\n",
      "[rdflib.term.Literal(\"Mi Pal's Deli\", datatype=rdflib.term.URIRef('http://www.w3.org/2001/XMLSchema#string')), rdflib.term.Literal('Philadelphia', datatype=rdflib.term.URIRef('http://www.w3.org/2001/XMLSchema#string')), rdflib.term.Literal('5.226451612903224', datatype=rdflib.term.URIRef('http://www.w3.org/2001/XMLSchema#double'))]\n",
      "[rdflib.term.Literal(\"Carluccio's\", datatype=rdflib.term.URIRef('http://www.w3.org/2001/XMLSchema#string')), rdflib.term.Literal('Philadelphia', datatype=rdflib.term.URIRef('http://www.w3.org/2001/XMLSchema#string')), rdflib.term.Literal('6.171', datatype=rdflib.term.URIRef('http://www.w3.org/2001/XMLSchema#double'))]\n",
      "[rdflib.term.Literal('Peter Piper Pizza', datatype=rdflib.term.URIRef('http://www.w3.org/2001/XMLSchema#string')), rdflib.term.Literal('Phoenix', datatype=rdflib.term.URIRef('http://www.w3.org/2001/XMLSchema#string')), rdflib.term.Literal('15.99', datatype=rdflib.term.URIRef('http://www.w3.org/2001/XMLSchema#double'))]\n",
      "[rdflib.term.Literal('Gatehouse Restaurant', datatype=rdflib.term.URIRef('http://www.w3.org/2001/XMLSchema#string')), rdflib.term.Literal('Pickens', datatype=rdflib.term.URIRef('http://www.w3.org/2001/XMLSchema#string')), rdflib.term.Literal('2.99', datatype=rdflib.term.URIRef('http://www.w3.org/2001/XMLSchema#double'))]\n",
      "[rdflib.term.Literal('Stissing House', datatype=rdflib.term.URIRef('http://www.w3.org/2001/XMLSchema#string')), rdflib.term.Literal('Pine Plains', datatype=rdflib.term.URIRef('http://www.w3.org/2001/XMLSchema#string')), rdflib.term.Literal('8.99', datatype=rdflib.term.URIRef('http://www.w3.org/2001/XMLSchema#double'))]\n",
      "[rdflib.term.Literal(\"Suraya's - Grill and Fried Chicken\", datatype=rdflib.term.URIRef('http://www.w3.org/2001/XMLSchema#string')), rdflib.term.Literal('Piscataway', datatype=rdflib.term.URIRef('http://www.w3.org/2001/XMLSchema#string')), rdflib.term.Literal('7.788787878787878', datatype=rdflib.term.URIRef('http://www.w3.org/2001/XMLSchema#double'))]\n",
      "[rdflib.term.Literal('Rivertowne North Shore', datatype=rdflib.term.URIRef('http://www.w3.org/2001/XMLSchema#string')), rdflib.term.Literal('Pittsburgh', datatype=rdflib.term.URIRef('http://www.w3.org/2001/XMLSchema#string')), rdflib.term.Literal('16.400000000000002', datatype=rdflib.term.URIRef('http://www.w3.org/2001/XMLSchema#double'))]\n",
      "[rdflib.term.Literal('West River Cafe', datatype=rdflib.term.URIRef('http://www.w3.org/2001/XMLSchema#string')), rdflib.term.Literal('Providence', datatype=rdflib.term.URIRef('http://www.w3.org/2001/XMLSchema#string')), rdflib.term.Literal('4.95', datatype=rdflib.term.URIRef('http://www.w3.org/2001/XMLSchema#double'))]\n",
      "[rdflib.term.Literal('Brigham Young University', datatype=rdflib.term.URIRef('http://www.w3.org/2001/XMLSchema#string')), rdflib.term.Literal('Provo', datatype=rdflib.term.URIRef('http://www.w3.org/2001/XMLSchema#string')), rdflib.term.Literal('11.53625', datatype=rdflib.term.URIRef('http://www.w3.org/2001/XMLSchema#double'))]\n",
      "[rdflib.term.Literal('Prince Pizza', datatype=rdflib.term.URIRef('http://www.w3.org/2001/XMLSchema#string')), rdflib.term.Literal('Redford', datatype=rdflib.term.URIRef('http://www.w3.org/2001/XMLSchema#string')), rdflib.term.Literal('4.457777777777777', datatype=rdflib.term.URIRef('http://www.w3.org/2001/XMLSchema#double'))]\n",
      "[rdflib.term.Literal('Milanos Pizza', datatype=rdflib.term.URIRef('http://www.w3.org/2001/XMLSchema#string')), rdflib.term.Literal('Sacramento', datatype=rdflib.term.URIRef('http://www.w3.org/2001/XMLSchema#string')), rdflib.term.Literal('12.722558139534884', datatype=rdflib.term.URIRef('http://www.w3.org/2001/XMLSchema#double'))]\n",
      "[rdflib.term.Literal(\"Riccardo's Pizza\", datatype=rdflib.term.URIRef('http://www.w3.org/2001/XMLSchema#string')), rdflib.term.Literal('Saddle Brook', datatype=rdflib.term.URIRef('http://www.w3.org/2001/XMLSchema#string')), rdflib.term.Literal('15.947714285714287', datatype=rdflib.term.URIRef('http://www.w3.org/2001/XMLSchema#double'))]\n",
      "[rdflib.term.Literal('Pie In The Sky', datatype=rdflib.term.URIRef('http://www.w3.org/2001/XMLSchema#string')), rdflib.term.Literal('Saint Albans', datatype=rdflib.term.URIRef('http://www.w3.org/2001/XMLSchema#string')), rdflib.term.Literal('9.432941176470585', datatype=rdflib.term.URIRef('http://www.w3.org/2001/XMLSchema#double'))]\n",
      "[rdflib.term.Literal('Oceano Bistro - Clayton', datatype=rdflib.term.URIRef('http://www.w3.org/2001/XMLSchema#string')), rdflib.term.Literal('Saint Louis', datatype=rdflib.term.URIRef('http://www.w3.org/2001/XMLSchema#string')), rdflib.term.Literal('9.432941176470585', datatype=rdflib.term.URIRef('http://www.w3.org/2001/XMLSchema#double'))]\n",
      "[rdflib.term.Literal('Ristorante Italiano', datatype=rdflib.term.URIRef('http://www.w3.org/2001/XMLSchema#string')), rdflib.term.Literal('Santa Cruz', datatype=rdflib.term.URIRef('http://www.w3.org/2001/XMLSchema#string')), rdflib.term.Literal('5.99', datatype=rdflib.term.URIRef('http://www.w3.org/2001/XMLSchema#double'))]\n",
      "[rdflib.term.Literal(\"Ralph's Grocery Deli\", datatype=rdflib.term.URIRef('http://www.w3.org/2001/XMLSchema#string')), rdflib.term.Literal('Seattle', datatype=rdflib.term.URIRef('http://www.w3.org/2001/XMLSchema#string')), rdflib.term.Literal('8.14', datatype=rdflib.term.URIRef('http://www.w3.org/2001/XMLSchema#double'))]\n",
      "[rdflib.term.Literal('Icon Grill', datatype=rdflib.term.URIRef('http://www.w3.org/2001/XMLSchema#string')), rdflib.term.Literal('Seattle', datatype=rdflib.term.URIRef('http://www.w3.org/2001/XMLSchema#string')), rdflib.term.Literal('13.947692307692307', datatype=rdflib.term.URIRef('http://www.w3.org/2001/XMLSchema#double'))]\n",
      "[rdflib.term.Literal('Enterprise Deli', datatype=rdflib.term.URIRef('http://www.w3.org/2001/XMLSchema#string')), rdflib.term.Literal('Shelton', datatype=rdflib.term.URIRef('http://www.w3.org/2001/XMLSchema#string')), rdflib.term.Literal('5.25', datatype=rdflib.term.URIRef('http://www.w3.org/2001/XMLSchema#double'))]\n",
      "[rdflib.term.Literal('Charlies American Grill & Spirits', datatype=rdflib.term.URIRef('http://www.w3.org/2001/XMLSchema#string')), rdflib.term.Literal('Sioux City', datatype=rdflib.term.URIRef('http://www.w3.org/2001/XMLSchema#string')), rdflib.term.Literal('20.434444444444445', datatype=rdflib.term.URIRef('http://www.w3.org/2001/XMLSchema#double'))]\n",
      "[rdflib.term.Literal(\"Avellino's Pizza\", datatype=rdflib.term.URIRef('http://www.w3.org/2001/XMLSchema#string')), rdflib.term.Literal('Southaven', datatype=rdflib.term.URIRef('http://www.w3.org/2001/XMLSchema#string')), rdflib.term.Literal('5.03', datatype=rdflib.term.URIRef('http://www.w3.org/2001/XMLSchema#double'))]\n",
      "[rdflib.term.Literal('Mexican Gardens', datatype=rdflib.term.URIRef('http://www.w3.org/2001/XMLSchema#string')), rdflib.term.Literal('Southgate', datatype=rdflib.term.URIRef('http://www.w3.org/2001/XMLSchema#string')), rdflib.term.Literal('9.99', datatype=rdflib.term.URIRef('http://www.w3.org/2001/XMLSchema#double'))]\n",
      "[rdflib.term.Literal('Brio Tuscan Grille - Southlake - Southlake Town Square', datatype=rdflib.term.URIRef('http://www.w3.org/2001/XMLSchema#string')), rdflib.term.Literal('Southlake', datatype=rdflib.term.URIRef('http://www.w3.org/2001/XMLSchema#string')), rdflib.term.Literal('8.95', datatype=rdflib.term.URIRef('http://www.w3.org/2001/XMLSchema#double'))]\n",
      "[rdflib.term.Literal(\"Boston's Restaurant & Sports Bar\", datatype=rdflib.term.URIRef('http://www.w3.org/2001/XMLSchema#string')), rdflib.term.Literal('Spokane', datatype=rdflib.term.URIRef('http://www.w3.org/2001/XMLSchema#string')), rdflib.term.Literal('10.75', datatype=rdflib.term.URIRef('http://www.w3.org/2001/XMLSchema#double'))]\n",
      "[rdflib.term.Literal('Uno Pizzeria & Grill - Sturbridge', datatype=rdflib.term.URIRef('http://www.w3.org/2001/XMLSchema#string')), rdflib.term.Literal('Sturbridge', datatype=rdflib.term.URIRef('http://www.w3.org/2001/XMLSchema#string')), rdflib.term.Literal('5.656666666666667', datatype=rdflib.term.URIRef('http://www.w3.org/2001/XMLSchema#double'))]\n",
      "[rdflib.term.Literal('China Moon', datatype=rdflib.term.URIRef('http://www.w3.org/2001/XMLSchema#string')), rdflib.term.Literal('Suffolk', datatype=rdflib.term.URIRef('http://www.w3.org/2001/XMLSchema#string')), rdflib.term.Literal('1.5125000000000002', datatype=rdflib.term.URIRef('http://www.w3.org/2001/XMLSchema#double'))]\n",
      "[rdflib.term.Literal(\"Khan's Bar & Grill\", datatype=rdflib.term.URIRef('http://www.w3.org/2001/XMLSchema#string')), rdflib.term.Literal('Washington', datatype=rdflib.term.URIRef('http://www.w3.org/2001/XMLSchema#string')), rdflib.term.Literal('8.0', datatype=rdflib.term.URIRef('http://www.w3.org/2001/XMLSchema#double'))]\n",
      "[rdflib.term.Literal(\"Philly's Subs\", datatype=rdflib.term.URIRef('http://www.w3.org/2001/XMLSchema#string')), rdflib.term.Literal('Wausau', datatype=rdflib.term.URIRef('http://www.w3.org/2001/XMLSchema#string')), rdflib.term.Literal('20.434444444444445', datatype=rdflib.term.URIRef('http://www.w3.org/2001/XMLSchema#double'))]\n",
      "[rdflib.term.Literal('California Pizza Kitchen', datatype=rdflib.term.URIRef('http://www.w3.org/2001/XMLSchema#string')), rdflib.term.Literal('Wellington', datatype=rdflib.term.URIRef('http://www.w3.org/2001/XMLSchema#string')), rdflib.term.Literal('16.0636', datatype=rdflib.term.URIRef('http://www.w3.org/2001/XMLSchema#double'))]\n",
      "[rdflib.term.Literal('Country Bagel Bakery', datatype=rdflib.term.URIRef('http://www.w3.org/2001/XMLSchema#string')), rdflib.term.Literal('West Chester', datatype=rdflib.term.URIRef('http://www.w3.org/2001/XMLSchema#string')), rdflib.term.Literal('3.1420000000000003', datatype=rdflib.term.URIRef('http://www.w3.org/2001/XMLSchema#double'))]\n",
      "[rdflib.term.Literal('Casa-Rica', datatype=rdflib.term.URIRef('http://www.w3.org/2001/XMLSchema#string')), rdflib.term.Literal('Westminster', datatype=rdflib.term.URIRef('http://www.w3.org/2001/XMLSchema#string')), rdflib.term.Literal('6.275', datatype=rdflib.term.URIRef('http://www.w3.org/2001/XMLSchema#double'))]\n",
      "[rdflib.term.Literal('Mediterraneo Ristorante', datatype=rdflib.term.URIRef('http://www.w3.org/2001/XMLSchema#string')), rdflib.term.Literal('Westminster', datatype=rdflib.term.URIRef('http://www.w3.org/2001/XMLSchema#string')), rdflib.term.Literal('13.9225', datatype=rdflib.term.URIRef('http://www.w3.org/2001/XMLSchema#double'))]\n",
      "[rdflib.term.Literal(\"Jet's Pizza\", datatype=rdflib.term.URIRef('http://www.w3.org/2001/XMLSchema#string')), rdflib.term.Literal('White Lake', datatype=rdflib.term.URIRef('http://www.w3.org/2001/XMLSchema#string')), rdflib.term.Literal('19.59', datatype=rdflib.term.URIRef('http://www.w3.org/2001/XMLSchema#double'))]\n",
      "[rdflib.term.Literal('Euro Pizzeria', datatype=rdflib.term.URIRef('http://www.w3.org/2001/XMLSchema#string')), rdflib.term.Literal('White Plains', datatype=rdflib.term.URIRef('http://www.w3.org/2001/XMLSchema#string')), rdflib.term.Literal('14.931891891891892', datatype=rdflib.term.URIRef('http://www.w3.org/2001/XMLSchema#double'))]\n",
      "[rdflib.term.Literal(\"Knolla's Pizza\", datatype=rdflib.term.URIRef('http://www.w3.org/2001/XMLSchema#string')), rdflib.term.Literal('Wichita', datatype=rdflib.term.URIRef('http://www.w3.org/2001/XMLSchema#string')), rdflib.term.Literal('11.815999999999999', datatype=rdflib.term.URIRef('http://www.w3.org/2001/XMLSchema#double'))]\n",
      "[rdflib.term.Literal('Taco Pronto', datatype=rdflib.term.URIRef('http://www.w3.org/2001/XMLSchema#string')), rdflib.term.Literal('Wichita', datatype=rdflib.term.URIRef('http://www.w3.org/2001/XMLSchema#string')), rdflib.term.Literal('11.815999999999999', datatype=rdflib.term.URIRef('http://www.w3.org/2001/XMLSchema#double'))]\n",
      "[rdflib.term.Literal('Satsuma', datatype=rdflib.term.URIRef('http://www.w3.org/2001/XMLSchema#string')), rdflib.term.Literal('Wilmington', datatype=rdflib.term.URIRef('http://www.w3.org/2001/XMLSchema#string')), rdflib.term.Literal('12.0', datatype=rdflib.term.URIRef('http://www.w3.org/2001/XMLSchema#double'))]\n",
      "[rdflib.term.Literal(\"Dioli's Italian Market\", datatype=rdflib.term.URIRef('http://www.w3.org/2001/XMLSchema#string')), rdflib.term.Literal('Winston Salem', datatype=rdflib.term.URIRef('http://www.w3.org/2001/XMLSchema#string')), rdflib.term.Literal('7.25', datatype=rdflib.term.URIRef('http://www.w3.org/2001/XMLSchema#double'))]\n",
      "[rdflib.term.Literal(\"Russo's Pizza\", datatype=rdflib.term.URIRef('http://www.w3.org/2001/XMLSchema#string')), rdflib.term.Literal('Wyoming', datatype=rdflib.term.URIRef('http://www.w3.org/2001/XMLSchema#string')), rdflib.term.Literal('9.126', datatype=rdflib.term.URIRef('http://www.w3.org/2001/XMLSchema#double'))]\n"
     ]
    }
   ],
   "source": [
    "##CSV files created in Task SPARQL (csv format).\n",
    "SPARQLQuery_SubTask_4(queryfile.replace(\".csv\", \"-\"+task)+\"query-results-averagepizza.csv\")"
   ]
  },
  {
   "cell_type": "markdown",
   "id": "b54770d2",
   "metadata": {},
   "source": [
    "### List of Pizzas without a price"
   ]
  },
  {
   "cell_type": "code",
   "execution_count": 15,
   "id": "4229f0e8",
   "metadata": {},
   "outputs": [],
   "source": [
    "def SPARQLQuery_SubTask_5(file_query_out):\n",
    "\n",
    "        qres = dependecies_task.g.query(\n",
    "            \"\"\"\n",
    "            PREFIX rdf: <http://www.w3.org/1999/02/22-rdf-syntax-ns#>\n",
    "            PREFIX cw: <http://www.semanticweb.org/in3067-inm713/restaurants#>\n",
    "            PREFIX xsd: <http://www.w3.org/2001/XMLSchema#>\n",
    "            SELECT DISTINCT ?itemName WHERE { \n",
    "                \n",
    "                ?food rdf:type cw:MenuItem .\n",
    "                ?food cw:itemName ?itemName .\n",
    "                ?food cw:hasValue ?price.\n",
    "                \n",
    "                FILTER ( ?price = cw: )\n",
    "            }\n",
    "            \"\"\"\n",
    "        )\n",
    "        print(\"%s capitals satisfying the query.\" % (str(len(qres))))\n",
    "\n",
    "        #f_out = open(file_query_out,\"w+\")\n",
    "        header = ['Pizza Name']\n",
    "\n",
    "        with open(file_query_out,\"w\", encoding=\"UTF-8\") as f:\n",
    "            writeQuery = csv.writer(f)\n",
    "            writeQuery.writerow(header)\n",
    "\n",
    "            for row in qres:\n",
    "                #Row is a list of matched RDF terms: URIs, literals or blank nodes\n",
    "                line_str = [row.itemName]\n",
    "                print(line_str)\n",
    "\n",
    "                writeQuery.writerow(line_str)"
   ]
  },
  {
   "cell_type": "code",
   "execution_count": 16,
   "id": "e99bfef7",
   "metadata": {},
   "outputs": [
    {
     "name": "stdout",
     "output_type": "stream",
     "text": [
      "66 capitals satisfying the query.\n",
      "[rdflib.term.Literal('Cheese Pizza', datatype=rdflib.term.URIRef('http://www.w3.org/2001/XMLSchema#string'))]\n",
      "[rdflib.term.Literal('Pizza Sub', datatype=rdflib.term.URIRef('http://www.w3.org/2001/XMLSchema#string'))]\n",
      "[rdflib.term.Literal('Veggie Pizza', datatype=rdflib.term.URIRef('http://www.w3.org/2001/XMLSchema#string'))]\n",
      "[rdflib.term.Literal('Create Your Own Pizza', datatype=rdflib.term.URIRef('http://www.w3.org/2001/XMLSchema#string'))]\n",
      "[rdflib.term.Literal('Pepperoni Pizza', datatype=rdflib.term.URIRef('http://www.w3.org/2001/XMLSchema#string'))]\n",
      "[rdflib.term.Literal('House Made Pizza', datatype=rdflib.term.URIRef('http://www.w3.org/2001/XMLSchema#string'))]\n",
      "[rdflib.term.Literal('Pizza Bagel', datatype=rdflib.term.URIRef('http://www.w3.org/2001/XMLSchema#string'))]\n",
      "[rdflib.term.Literal('Pizza Con Uovo Fritto', datatype=rdflib.term.URIRef('http://www.w3.org/2001/XMLSchema#string'))]\n",
      "[rdflib.term.Literal('Pizza Schiacchiata Alla Toscana', datatype=rdflib.term.URIRef('http://www.w3.org/2001/XMLSchema#string'))]\n",
      "[rdflib.term.Literal('Pizza Con Formaggio', datatype=rdflib.term.URIRef('http://www.w3.org/2001/XMLSchema#string'))]\n",
      "[rdflib.term.Literal('Bbq Chicken Pizza', datatype=rdflib.term.URIRef('http://www.w3.org/2001/XMLSchema#string'))]\n",
      "[rdflib.term.Literal('Vegetarian Pizza', datatype=rdflib.term.URIRef('http://www.w3.org/2001/XMLSchema#string'))]\n",
      "[rdflib.term.Literal('Bbq Pizza', datatype=rdflib.term.URIRef('http://www.w3.org/2001/XMLSchema#string'))]\n",
      "[rdflib.term.Literal('Pizza', datatype=rdflib.term.URIRef('http://www.w3.org/2001/XMLSchema#string'))]\n",
      "[rdflib.term.Literal('Deluxe Pizza', datatype=rdflib.term.URIRef('http://www.w3.org/2001/XMLSchema#string'))]\n",
      "[rdflib.term.Literal('Meat Pizza', datatype=rdflib.term.URIRef('http://www.w3.org/2001/XMLSchema#string'))]\n",
      "[rdflib.term.Literal('Vegetable Pizza', datatype=rdflib.term.URIRef('http://www.w3.org/2001/XMLSchema#string'))]\n",
      "[rdflib.term.Literal('Cheesy Bread Pizza (full)', datatype=rdflib.term.URIRef('http://www.w3.org/2001/XMLSchema#string'))]\n",
      "[rdflib.term.Literal('White Pizza', datatype=rdflib.term.URIRef('http://www.w3.org/2001/XMLSchema#string'))]\n",
      "[rdflib.term.Literal('B.l.t. Pizza', datatype=rdflib.term.URIRef('http://www.w3.org/2001/XMLSchema#string'))]\n",
      "[rdflib.term.Literal('Buffalo Chicken Pizza', datatype=rdflib.term.URIRef('http://www.w3.org/2001/XMLSchema#string'))]\n",
      "[rdflib.term.Literal('Margherita Pizza', datatype=rdflib.term.URIRef('http://www.w3.org/2001/XMLSchema#string'))]\n",
      "[rdflib.term.Literal('Build Your Own Pizza', datatype=rdflib.term.URIRef('http://www.w3.org/2001/XMLSchema#string'))]\n",
      "[rdflib.term.Literal('Blt Pizza', datatype=rdflib.term.URIRef('http://www.w3.org/2001/XMLSchema#string'))]\n",
      "[rdflib.term.Literal('Taco Pizza', datatype=rdflib.term.URIRef('http://www.w3.org/2001/XMLSchema#string'))]\n",
      "[rdflib.term.Literal('Pizza Skins', datatype=rdflib.term.URIRef('http://www.w3.org/2001/XMLSchema#string'))]\n",
      "[rdflib.term.Literal('M.y.o.p Make Your Own Pizza', datatype=rdflib.term.URIRef('http://www.w3.org/2001/XMLSchema#string'))]\n",
      "[rdflib.term.Literal('Make Your Own Pizza', datatype=rdflib.term.URIRef('http://www.w3.org/2001/XMLSchema#string'))]\n",
      "[rdflib.term.Literal('Pizza of The Day', datatype=rdflib.term.URIRef('http://www.w3.org/2001/XMLSchema#string'))]\n",
      "[rdflib.term.Literal('Thin Crust or Deep Dish Pizza', datatype=rdflib.term.URIRef('http://www.w3.org/2001/XMLSchema#string'))]\n",
      "[rdflib.term.Literal('Brick Oven Pizza Al Metro', datatype=rdflib.term.URIRef('http://www.w3.org/2001/XMLSchema#string'))]\n",
      "[rdflib.term.Literal('Fried Pizza', datatype=rdflib.term.URIRef('http://www.w3.org/2001/XMLSchema#string'))]\n",
      "[rdflib.term.Literal('Pork Tenderloin Pizzaiola', datatype=rdflib.term.URIRef('http://www.w3.org/2001/XMLSchema#string'))]\n",
      "[rdflib.term.Literal('Chicken Parmesan Pizza', datatype=rdflib.term.URIRef('http://www.w3.org/2001/XMLSchema#string'))]\n",
      "[rdflib.term.Literal('Mexican Pizza', datatype=rdflib.term.URIRef('http://www.w3.org/2001/XMLSchema#string'))]\n",
      "[rdflib.term.Literal('Greek Pizza', datatype=rdflib.term.URIRef('http://www.w3.org/2001/XMLSchema#string'))]\n",
      "[rdflib.term.Literal('Two Slices of Cheese Pizza', datatype=rdflib.term.URIRef('http://www.w3.org/2001/XMLSchema#string'))]\n",
      "[rdflib.term.Literal('Pita Pizza', datatype=rdflib.term.URIRef('http://www.w3.org/2001/XMLSchema#string'))]\n",
      "[rdflib.term.Literal('Meat Lovers Pizza', datatype=rdflib.term.URIRef('http://www.w3.org/2001/XMLSchema#string'))]\n",
      "[rdflib.term.Literal('Pizza Logs', datatype=rdflib.term.URIRef('http://www.w3.org/2001/XMLSchema#string'))]\n",
      "[rdflib.term.Literal('Pizza By The Slice', datatype=rdflib.term.URIRef('http://www.w3.org/2001/XMLSchema#string'))]\n",
      "[rdflib.term.Literal('Chicago Classic Deep Dish Pizza', datatype=rdflib.term.URIRef('http://www.w3.org/2001/XMLSchema#string'))]\n",
      "[rdflib.term.Literal('Meatball Pizza', datatype=rdflib.term.URIRef('http://www.w3.org/2001/XMLSchema#string'))]\n",
      "[rdflib.term.Literal('Byop (build Your Own Pizza)', datatype=rdflib.term.URIRef('http://www.w3.org/2001/XMLSchema#string'))]\n",
      "[rdflib.term.Literal('Pizza Slice', datatype=rdflib.term.URIRef('http://www.w3.org/2001/XMLSchema#string'))]\n",
      "[rdflib.term.Literal('Famous Paisans Pizza Sauce Quart', datatype=rdflib.term.URIRef('http://www.w3.org/2001/XMLSchema#string'))]\n",
      "[rdflib.term.Literal('Four 18 Pizzas', datatype=rdflib.term.URIRef('http://www.w3.org/2001/XMLSchema#string'))]\n",
      "[rdflib.term.Literal('Gluten Free Pizza', datatype=rdflib.term.URIRef('http://www.w3.org/2001/XMLSchema#string'))]\n",
      "[rdflib.term.Literal('The Original Cheese Pizza', datatype=rdflib.term.URIRef('http://www.w3.org/2001/XMLSchema#string'))]\n",
      "[rdflib.term.Literal('Chicago Deep Dish Pizza', datatype=rdflib.term.URIRef('http://www.w3.org/2001/XMLSchema#string'))]\n",
      "[rdflib.term.Literal('Pizza Topping Dippers', datatype=rdflib.term.URIRef('http://www.w3.org/2001/XMLSchema#string'))]\n",
      "[rdflib.term.Literal('Four Pig Pizza', datatype=rdflib.term.URIRef('http://www.w3.org/2001/XMLSchema#string'))]\n",
      "[rdflib.term.Literal('Classic Pepperoni Lahvosh Pizza', datatype=rdflib.term.URIRef('http://www.w3.org/2001/XMLSchema#string'))]\n",
      "[rdflib.term.Literal('New York Style Pizza', datatype=rdflib.term.URIRef('http://www.w3.org/2001/XMLSchema#string'))]\n",
      "[rdflib.term.Literal('Philly Cheese Steak Pizza', datatype=rdflib.term.URIRef('http://www.w3.org/2001/XMLSchema#string'))]\n",
      "[rdflib.term.Literal('French Bread Pizza', datatype=rdflib.term.URIRef('http://www.w3.org/2001/XMLSchema#string'))]\n",
      "[rdflib.term.Literal('Gluten Free Veg Out Pizza', datatype=rdflib.term.URIRef('http://www.w3.org/2001/XMLSchema#string'))]\n",
      "[rdflib.term.Literal('Thai Dye Pizza', datatype=rdflib.term.URIRef('http://www.w3.org/2001/XMLSchema#string'))]\n",
      "[rdflib.term.Literal('Plain or Pepperoni Pizza', datatype=rdflib.term.URIRef('http://www.w3.org/2001/XMLSchema#string'))]\n",
      "[rdflib.term.Literal('Fruit Pizza', datatype=rdflib.term.URIRef('http://www.w3.org/2001/XMLSchema#string'))]\n",
      "[rdflib.term.Literal('Pizza or Calzone', datatype=rdflib.term.URIRef('http://www.w3.org/2001/XMLSchema#string'))]\n",
      "[rdflib.term.Literal('1 Topping Pizza', datatype=rdflib.term.URIRef('http://www.w3.org/2001/XMLSchema#string'))]\n",
      "[rdflib.term.Literal('2 Toppings Pizza', datatype=rdflib.term.URIRef('http://www.w3.org/2001/XMLSchema#string'))]\n",
      "[rdflib.term.Literal('Cheesy Pita Pizza', datatype=rdflib.term.URIRef('http://www.w3.org/2001/XMLSchema#string'))]\n",
      "[rdflib.term.Literal('Blt or Pizza Sub', datatype=rdflib.term.URIRef('http://www.w3.org/2001/XMLSchema#string'))]\n",
      "[rdflib.term.Literal('Stinger Pizza', datatype=rdflib.term.URIRef('http://www.w3.org/2001/XMLSchema#string'))]\n"
     ]
    }
   ],
   "source": [
    "##CSV files created in Task SPARQL (csv format).\n",
    "SPARQLQuery_SubTask_5(queryfile.replace(\".csv\", \"-\"+task)+\"query-results-nanpricepizza.csv\")"
   ]
  },
  {
   "cell_type": "markdown",
   "id": "c0c48503",
   "metadata": {},
   "source": [
    "# Task 2.4"
   ]
  },
  {
   "cell_type": "markdown",
   "id": "daf698b6",
   "metadata": {},
   "source": [
    "##### In Reference to Lab 8 - https://github.com/city-knowledge-graphs/python-2022/tree/main/lab8"
   ]
  },
  {
   "cell_type": "code",
   "execution_count": 59,
   "id": "4790c27d",
   "metadata": {},
   "outputs": [],
   "source": [
    "#In reference of Lab 8\n",
    "\n",
    "def getClasses(onto):\n",
    "    return onto.classes()\n",
    "\n",
    "def getDataProperties(onto):\n",
    "    return onto.data_properties()\n",
    "\n",
    "def getObjectProperties(onto):\n",
    "    return onto.object_properties()\n",
    "\n",
    "def getIndividuals(onto):\n",
    "    return onto.individuals()\n"
   ]
  },
  {
   "cell_type": "code",
   "execution_count": 60,
   "id": "cce98428",
   "metadata": {},
   "outputs": [],
   "source": [
    "#Creating a new graph\n",
    "graph_oa = Graph()\n",
    "\n",
    "load_pz_onto = \"pizza.owl\"\n",
    "load_cw_onto = \"cw_onto.owl\"\n",
    "\n",
    "#Loading the two owl files\n",
    "p_onto = get_ontology(load_pz_onto).load()\n",
    "c_onto = get_ontology(load_cw_onto).load()\n",
    "\n"
   ]
  },
  {
   "cell_type": "code",
   "execution_count": 61,
   "id": "e5b756d8",
   "metadata": {},
   "outputs": [
    {
     "name": "stdout",
     "output_type": "stream",
     "text": [
      "\n",
      "(rdflib.term.URIRef('http://www.semanticweb.org/in3067-inm713/restaurants#Food'), rdflib.term.URIRef('http://www.w3.org/2002/07/owl#equivalentClass'), rdflib.term.URIRef('http://www.co-ode.org/ontologies/pizza/pizza.owl#Food'))\n",
      "\n",
      "(rdflib.term.URIRef('http://www.semanticweb.org/in3067-inm713/restaurants#Country'), rdflib.term.URIRef('http://www.w3.org/2002/07/owl#equivalentClass'), rdflib.term.URIRef('http://www.co-ode.org/ontologies/pizza/pizza.owl#Country'))\n",
      "\n",
      "(rdflib.term.URIRef('http://www.semanticweb.org/in3067-inm713/restaurants#Pizza'), rdflib.term.URIRef('http://www.w3.org/2002/07/owl#equivalentClass'), rdflib.term.URIRef('http://www.co-ode.org/ontologies/pizza/pizza.owl#Pizza'))\n",
      "\n",
      "(rdflib.term.URIRef('http://www.semanticweb.org/in3067-inm713/restaurants#NamedPizza'), rdflib.term.URIRef('http://www.w3.org/2002/07/owl#equivalentClass'), rdflib.term.URIRef('http://www.co-ode.org/ontologies/pizza/pizza.owl#NamedPizza'))\n",
      "\n",
      "(rdflib.term.URIRef('http://www.semanticweb.org/in3067-inm713/restaurants#Mushroom'), rdflib.term.URIRef('http://www.w3.org/2002/07/owl#equivalentClass'), rdflib.term.URIRef('http://www.co-ode.org/ontologies/pizza/pizza.owl#Mushroom'))\n",
      "\n",
      "(rdflib.term.URIRef('http://www.semanticweb.org/in3067-inm713/restaurants#VegetarianPizza'), rdflib.term.URIRef('http://www.w3.org/2002/07/owl#equivalentClass'), rdflib.term.URIRef('http://www.co-ode.org/ontologies/pizza/pizza.owl#VegetarianPizza'))\n"
     ]
    }
   ],
   "source": [
    "#brute force where we have a for loop that goes through the cw_onto file with another nested for loop\n",
    "for cls_cw_onto in list(getClasses(c_onto)):\n",
    "    subject = URIRef(cls_cw_onto.iri)\n",
    "    \n",
    "    for cls_pz_onto in list(getClasses(p_onto)):\n",
    "        object = URIRef(cls_pz_onto.iri)\n",
    "       #checking whether the name matches\n",
    "        if cls_cw_onto.name == cls_pz_onto.name:\n",
    "            graph_oa.add((subject, OWL.equivalentClass, object))\n",
    "            print()\n",
    "            #gives us 6 triples\n",
    "            print(str((subject, OWL.equivalentClass, object)))"
   ]
  },
  {
   "cell_type": "code",
   "execution_count": 62,
   "id": "fd262717",
   "metadata": {},
   "outputs": [],
   "source": [
    "for cls_cw_onto in list(getDataProperties(c_onto)):\n",
    "    subject = URIRef(cls_cw_onto.iri)\n",
    "    #print(cls_cw_onto.name)\n",
    "    for cls_pz_onto in list(getDataProperties(p_onto)):\n",
    "        object = URIRef(cls_pz_onto.iri)\n",
    "        print(cls_pz_onto.iri)\n",
    "        if cls_cw_onto == cls_pz_onto:\n",
    "            graph_oa.add((subject, OWL.equivalentProperty, object))\n",
    "            print()\n",
    "            print(str((subject, OWL.equivalentProperty, object)))"
   ]
  },
  {
   "cell_type": "markdown",
   "id": "b5f9f445",
   "metadata": {},
   "source": [
    "No Data properties in Pizza.owl"
   ]
  },
  {
   "cell_type": "code",
   "execution_count": 63,
   "id": "27764b7d",
   "metadata": {},
   "outputs": [
    {
     "name": "stdout",
     "output_type": "stream",
     "text": [
      "\n",
      "(rdflib.term.URIRef('http://www.semanticweb.org/in3067-inm713/restaurants#hasIngredient'), rdflib.term.URIRef('http://www.w3.org/2002/07/owl#equivalentProperty'), rdflib.term.URIRef('http://www.co-ode.org/ontologies/pizza/pizza.owl#hasIngredient'))\n",
      "\n",
      "(rdflib.term.URIRef('http://www.semanticweb.org/in3067-inm713/restaurants#isIngredientOf'), rdflib.term.URIRef('http://www.w3.org/2002/07/owl#equivalentProperty'), rdflib.term.URIRef('http://www.co-ode.org/ontologies/pizza/pizza.owl#isIngredientOf'))\n"
     ]
    }
   ],
   "source": [
    "for cls_cw_onto in list(getObjectProperties(c_onto)):\n",
    "    subject = URIRef(cls_cw_onto.iri)\n",
    "    #print(cls_cw_onto.name)\n",
    "    for cls_pz_onto in list(getObjectProperties(p_onto)):\n",
    "        object = URIRef(cls_pz_onto.iri)\n",
    "        #print(cls_pz_onto.iri)\n",
    "        if cls_cw_onto.name == cls_pz_onto.name:\n",
    "            graph_oa.add((subject, OWL.equivalentProperty, object))\n",
    "            print()\n",
    "            print(str((subject, OWL.equivalentProperty, object)))"
   ]
  },
  {
   "cell_type": "code",
   "execution_count": 64,
   "id": "bccbc8cf",
   "metadata": {},
   "outputs": [
    {
     "name": "stdout",
     "output_type": "stream",
     "text": [
      "DaiyaCheese\n",
      "EUR\n",
      "GBP\n",
      "USD\n",
      "bianca_pizza_little_pizza_paradise_bend\n",
      "capers\n",
      "little_Pizza_Paradise_Bend\n",
      "olive\n",
      "onion\n",
      "pizza_putanesca_the_brentwood_los_angeles\n",
      "tomato\n",
      "the_brentwood_los_angeles\n"
     ]
    }
   ],
   "source": [
    "for cls_cw_onto in list(getIndividuals(c_onto)):\n",
    "    subject = URIRef(cls_cw_onto.iri)\n",
    "    print(cls_cw_onto.name)\n",
    "    for cls_pz_onto in list(getIndividuals(p_onto)):\n",
    "        object = URIRef(cls_pz_onto.iri)\n",
    "        #print(cls_pz_onto.iri)\n",
    "        if cls_cw_onto.name == cls_pz_onto.name:\n",
    "            graph_oa.add((subject, OWL.equivalentProperty, object))\n",
    "            print()\n",
    "            print(str((subject, OWL.equivalentProperty, object)))"
   ]
  },
  {
   "cell_type": "markdown",
   "id": "a58b290d",
   "metadata": {},
   "source": [
    "No matching individuals"
   ]
  },
  {
   "cell_type": "code",
   "execution_count": 65,
   "id": "38e9a380",
   "metadata": {},
   "outputs": [],
   "source": [
    "def performReasoning_OA(ontology_file):    \n",
    "        print(\"Data triples from CSV: '\" + str(len(graph_oa)) + \"'.\")\n",
    "        graph_oa.load(ontology_file,  format=guess_format(ontology_file)) #e.g., format=ttl\n",
    "        print(\"Triples including ontology: '\" + str(len(graph_oa)) + \"'.\") \n",
    "        #Applying reasoning and expand the graph with new triples \n",
    "        owlrl.DeductiveClosure(owlrl.OWLRL_Semantics, axiomatic_triples=False, datatype_axioms=False).expand(graph_oa)\n",
    "\n",
    "        print(\"Triples after OWL 2 RL reasoning: '\" + str(len(graph_oa)) + \"'.\")"
   ]
  },
  {
   "cell_type": "code",
   "execution_count": 72,
   "id": "f29be10d",
   "metadata": {},
   "outputs": [],
   "source": [
    "def saveGraph_OA(file_output):\n",
    "    ##SAVE/SERIALIZE GRAPH\n",
    "    #print(self.g.serialize(format=\"turtle\").decode(\"utf-8\"))\n",
    "    graph_oa.serialize(destination=file_output, format='ttl')"
   ]
  },
  {
   "cell_type": "code",
   "execution_count": 73,
   "id": "b8a2924a",
   "metadata": {},
   "outputs": [],
   "source": [
    "#Ontology alignment results (turtle format).\n",
    "saveGraph_OA(\"onto_alignment_1.ttl\")"
   ]
  },
  {
   "cell_type": "markdown",
   "id": "c6c5154a",
   "metadata": {},
   "source": [
    "#### Subtask OA.2"
   ]
  },
  {
   "cell_type": "code",
   "execution_count": 74,
   "id": "37f5c5c0",
   "metadata": {},
   "outputs": [
    {
     "name": "stdout",
     "output_type": "stream",
     "text": [
      "Data triples from CSV: '47553'.\n",
      "Triples including ontology: '47815'.\n",
      "Triples after OWL 2 RL reasoning: '58960'.\n"
     ]
    }
   ],
   "source": [
    "#i \n",
    "#Extended RDF data 2 after reasoning with the alignments (turtle format).\n",
    "performReasoning_OA(\"cw_onto.owl\")\n",
    "saveGraph_OA(\"cw_onto_OA_reasoner.ttl\")"
   ]
  },
  {
   "cell_type": "code",
   "execution_count": 69,
   "id": "9e8ebac5",
   "metadata": {},
   "outputs": [
    {
     "name": "stdout",
     "output_type": "stream",
     "text": [
      "Data triples from CSV: '3838'.\n",
      "Triples including ontology: '5777'.\n",
      "Triples after OWL 2 RL reasoning: '14562'.\n"
     ]
    }
   ],
   "source": [
    "#ii\n",
    "performReasoning_OA(\"pizza.owl\")\n",
    "saveGraph_OA(\"pizza_onto_OA_reasoner.ttl\")"
   ]
  },
  {
   "cell_type": "code",
   "execution_count": 70,
   "id": "8c95dd6e",
   "metadata": {},
   "outputs": [
    {
     "name": "stdout",
     "output_type": "stream",
     "text": [
      "Data triples from CSV: '14562'.\n",
      "Triples including ontology: '14562'.\n",
      "Triples after OWL 2 RL reasoning: '14568'.\n"
     ]
    }
   ],
   "source": [
    "#iii\n",
    "performReasoning_OA(\"onto_alignment_1.ttl\")\n",
    "saveGraph_OA(\"onto_alignment_1_reasoner.ttl\")"
   ]
  },
  {
   "cell_type": "code",
   "execution_count": 71,
   "id": "8ac4e815",
   "metadata": {},
   "outputs": [
    {
     "name": "stdout",
     "output_type": "stream",
     "text": [
      "Data triples from CSV: '14568'.\n",
      "Triples including ontology: '21051'.\n",
      "Triples after OWL 2 RL reasoning: '47553'.\n"
     ]
    }
   ],
   "source": [
    "#iv\n",
    "performReasoning_OA(\"IN3067-INM713_coursework_data_pizza_500-task1.ttl\")\n",
    "saveGraph_OA(\"generated_data_OA.ttl\")"
   ]
  },
  {
   "cell_type": "code",
   "execution_count": 45,
   "id": "36fce908",
   "metadata": {},
   "outputs": [],
   "source": [
    "def compareWithReference(reference_mappings_file, system_mappings_file):\n",
    "    ref_mappings = Graph()\n",
    "    ref_mappings.parse(reference_mappings_file, format=\"ttl\")\n",
    "    \n",
    "    system_mappings = Graph()\n",
    "    system_mappings.parse(system_mappings_file, format=\"ttl\")\n",
    "    \n",
    "    #We calculate precision and recall via true positives, false positives and false negatives\n",
    "    #https://en.wikipedia.org/wiki/Precision_and_recall\n",
    "            \n",
    "    tp=0\n",
    "    fp=0\n",
    "    fn=0\n",
    "    \n",
    "    for t in system_mappings:\n",
    "        if t in ref_mappings:\n",
    "            tp+=1\n",
    "        else:\n",
    "            fp+=1\n",
    "    \n",
    "    for t in ref_mappings:\n",
    "        if not t in system_mappings:\n",
    "            fn+=1\n",
    "            \n",
    "    precision = tp/(tp+fp)\n",
    "    recall = tp/(tp+fn)\n",
    "    f_score = (2*precision*recall)/(precision+recall)\n",
    "\n",
    "    #print(tp, tp2)\n",
    "    #print(fp)\n",
    "    #print(fn)\n",
    "\n",
    "    print(\"Comparing '\" + system_mappings_file + \"' with '\" + reference_mappings_file)\n",
    "    print(\"\\tPrecision: \" + str(precision))\n",
    "    print(\"\\tRecall: \" + str(recall))\n",
    "    print(\"\\tF-Score: \" + str(f_score))"
   ]
  },
  {
   "cell_type": "code",
   "execution_count": 46,
   "id": "30e3bbde",
   "metadata": {},
   "outputs": [
    {
     "name": "stdout",
     "output_type": "stream",
     "text": [
      "Comparing 'cw_onto.ttl' with 'pizza.ttl\n",
      "\tPrecision: 0.001215066828675577\n",
      "\tRecall: 0.00051440329218107\n",
      "\tF-Score: 0.0007228044813877846\n"
     ]
    }
   ],
   "source": [
    "reference_mappings=\"pizza.ttl\"\n",
    "system_mappings=\"cw_onto.ttl\"\n",
    "\n",
    "compareWithReference(reference_mappings, system_mappings)"
   ]
  },
  {
   "cell_type": "markdown",
   "id": "af5595c0",
   "metadata": {},
   "source": [
    "#### Subtask OA.3"
   ]
  },
  {
   "cell_type": "code",
   "execution_count": 244,
   "id": "ae1200fd",
   "metadata": {},
   "outputs": [],
   "source": [
    "def MeatyPizzaQuery():\n",
    "    qres = graph_oa.query(\n",
    "    '''\n",
    "    PREFIX rdf: <http://www.w3.org/1999/02/22-rdf-syntax-ns#>\n",
    "    PREFIX cw: <http://www.semanticweb.org/in3067-inm713/restaurants#>\n",
    "    PREFIX xsd: <http://www.w3.org/2001/XMLSchema#>\n",
    "    PREFIX pizza: <http://www.co-ode.org/ontologies/pizza/pizza.owl#> \n",
    "    PREFIX terms: <http://purl.org/dc/terms/> \n",
    "    PREFIX rdfs: <http://www.w3.org/2000/01/rdf-schema#>\n",
    "    SELECT DISTINCT ?topping WHERE { \n",
    "    \n",
    "        ?pizza rdf:type pizza:MeatyPizza;\n",
    "            pizza:hasTopping ?topping .\n",
    "        FILTER EXISTS {?topping rdf:type pizza:MeatTopping } .\n",
    "    }\n",
    "    '''\n",
    "    )"
   ]
  },
  {
   "cell_type": "markdown",
   "id": "12392996",
   "metadata": {},
   "source": [
    "# Task 2.5"
   ]
  },
  {
   "cell_type": "markdown",
   "id": "3d69fc06",
   "metadata": {},
   "source": [
    "### In Reference to Lab9 - https://github.com/city-knowledge-graphs/python-2022/tree/main/lab9"
   ]
  },
  {
   "cell_type": "code",
   "execution_count": 80,
   "id": "c365760a",
   "metadata": {},
   "outputs": [
    {
     "name": "stdout",
     "output_type": "stream",
     "text": [
      "Requirement already satisfied: gensim in c:\\users\\mvnsi\\anaconda3\\lib\\site-packages (4.2.0)\n",
      "Requirement already satisfied: smart-open>=1.8.1 in c:\\users\\mvnsi\\anaconda3\\lib\\site-packages (from gensim) (6.0.0)\n",
      "Requirement already satisfied: Cython==0.29.28 in c:\\users\\mvnsi\\anaconda3\\lib\\site-packages (from gensim) (0.29.28)\n",
      "Requirement already satisfied: scipy>=0.18.1 in c:\\users\\mvnsi\\anaconda3\\lib\\site-packages (from gensim) (1.7.1)\n",
      "Requirement already satisfied: numpy>=1.17.0 in c:\\users\\mvnsi\\anaconda3\\lib\\site-packages (from gensim) (1.20.3)\n",
      "Note: you may need to restart the kernel to use updated packages.\n"
     ]
    }
   ],
   "source": [
    "pip install gensim"
   ]
  },
  {
   "cell_type": "code",
   "execution_count": 82,
   "id": "9bb5ddfc",
   "metadata": {},
   "outputs": [],
   "source": [
    "from owl2vec_star import owl2vec_star"
   ]
  },
  {
   "cell_type": "code",
   "execution_count": 84,
   "id": "393d23c1",
   "metadata": {},
   "outputs": [
    {
     "ename": "KeyError",
     "evalue": "'BASIC'",
     "output_type": "error",
     "traceback": [
      "\u001b[1;31m---------------------------------------------------------------------------\u001b[0m",
      "\u001b[1;31mKeyError\u001b[0m                                  Traceback (most recent call last)",
      "\u001b[1;32m~\\AppData\\Local\\Temp/ipykernel_11600/4218632675.py\u001b[0m in \u001b[0;36m<module>\u001b[1;34m\u001b[0m\n\u001b[1;32m----> 1\u001b[1;33m \u001b[0mgensim_model\u001b[0m \u001b[1;33m=\u001b[0m \u001b[0mowl2vec_star\u001b[0m\u001b[1;33m.\u001b[0m\u001b[0mextract_owl2vec_model\u001b[0m\u001b[1;33m(\u001b[0m\u001b[1;34m\"./cw_onto.owl\"\u001b[0m\u001b[1;33m,\u001b[0m \u001b[1;34m\"./default.cfg\"\u001b[0m\u001b[1;33m,\u001b[0m \u001b[1;32mTrue\u001b[0m\u001b[1;33m,\u001b[0m \u001b[1;32mTrue\u001b[0m\u001b[1;33m,\u001b[0m \u001b[1;32mTrue\u001b[0m\u001b[1;33m)\u001b[0m\u001b[1;33m\u001b[0m\u001b[1;33m\u001b[0m\u001b[0m\n\u001b[0m\u001b[0;32m      2\u001b[0m \u001b[1;33m\u001b[0m\u001b[0m\n\u001b[0;32m      3\u001b[0m \u001b[0moutput_folder\u001b[0m\u001b[1;33m=\u001b[0m\u001b[1;34m\"./cache/output/\"\u001b[0m\u001b[1;33m\u001b[0m\u001b[1;33m\u001b[0m\u001b[0m\n\u001b[0;32m      4\u001b[0m \u001b[1;33m\u001b[0m\u001b[0m\n\u001b[0;32m      5\u001b[0m \u001b[1;31m#Gensim format\u001b[0m\u001b[1;33m\u001b[0m\u001b[1;33m\u001b[0m\u001b[0m\n",
      "\u001b[1;32mc:\\Users\\mvnsi\\Desktop\\Semantics_CW\\owl2vec_star\\owl2vec_star.py\u001b[0m in \u001b[0;36mextract_owl2vec_model\u001b[1;34m(ontology_file, config_file, uri_doc, lit_doc, mix_doc)\u001b[0m\n\u001b[0;32m     27\u001b[0m \u001b[1;33m\u001b[0m\u001b[0m\n\u001b[0;32m     28\u001b[0m     \u001b[1;32mif\u001b[0m \u001b[0montology_file\u001b[0m\u001b[1;33m:\u001b[0m\u001b[1;33m\u001b[0m\u001b[1;33m\u001b[0m\u001b[0m\n\u001b[1;32m---> 29\u001b[1;33m         \u001b[0mconfig\u001b[0m\u001b[1;33m[\u001b[0m\u001b[1;34m'BASIC'\u001b[0m\u001b[1;33m]\u001b[0m\u001b[1;33m[\u001b[0m\u001b[1;34m'ontology_file'\u001b[0m\u001b[1;33m]\u001b[0m \u001b[1;33m=\u001b[0m \u001b[0mclick\u001b[0m\u001b[1;33m.\u001b[0m\u001b[0mformat_filename\u001b[0m\u001b[1;33m(\u001b[0m\u001b[0montology_file\u001b[0m\u001b[1;33m)\u001b[0m\u001b[1;33m\u001b[0m\u001b[1;33m\u001b[0m\u001b[0m\n\u001b[0m\u001b[0;32m     30\u001b[0m \u001b[1;33m\u001b[0m\u001b[0m\n\u001b[0;32m     31\u001b[0m \u001b[1;33m\u001b[0m\u001b[0m\n",
      "\u001b[1;32mc:\\Users\\mvnsi\\anaconda3\\lib\\configparser.py\u001b[0m in \u001b[0;36m__getitem__\u001b[1;34m(self, key)\u001b[0m\n\u001b[0;32m    961\u001b[0m     \u001b[1;32mdef\u001b[0m \u001b[0m__getitem__\u001b[0m\u001b[1;33m(\u001b[0m\u001b[0mself\u001b[0m\u001b[1;33m,\u001b[0m \u001b[0mkey\u001b[0m\u001b[1;33m)\u001b[0m\u001b[1;33m:\u001b[0m\u001b[1;33m\u001b[0m\u001b[1;33m\u001b[0m\u001b[0m\n\u001b[0;32m    962\u001b[0m         \u001b[1;32mif\u001b[0m \u001b[0mkey\u001b[0m \u001b[1;33m!=\u001b[0m \u001b[0mself\u001b[0m\u001b[1;33m.\u001b[0m\u001b[0mdefault_section\u001b[0m \u001b[1;32mand\u001b[0m \u001b[1;32mnot\u001b[0m \u001b[0mself\u001b[0m\u001b[1;33m.\u001b[0m\u001b[0mhas_section\u001b[0m\u001b[1;33m(\u001b[0m\u001b[0mkey\u001b[0m\u001b[1;33m)\u001b[0m\u001b[1;33m:\u001b[0m\u001b[1;33m\u001b[0m\u001b[1;33m\u001b[0m\u001b[0m\n\u001b[1;32m--> 963\u001b[1;33m             \u001b[1;32mraise\u001b[0m \u001b[0mKeyError\u001b[0m\u001b[1;33m(\u001b[0m\u001b[0mkey\u001b[0m\u001b[1;33m)\u001b[0m\u001b[1;33m\u001b[0m\u001b[1;33m\u001b[0m\u001b[0m\n\u001b[0m\u001b[0;32m    964\u001b[0m         \u001b[1;32mreturn\u001b[0m \u001b[0mself\u001b[0m\u001b[1;33m.\u001b[0m\u001b[0m_proxies\u001b[0m\u001b[1;33m[\u001b[0m\u001b[0mkey\u001b[0m\u001b[1;33m]\u001b[0m\u001b[1;33m\u001b[0m\u001b[1;33m\u001b[0m\u001b[0m\n\u001b[0;32m    965\u001b[0m \u001b[1;33m\u001b[0m\u001b[0m\n",
      "\u001b[1;31mKeyError\u001b[0m: 'BASIC'"
     ]
    }
   ],
   "source": [
    "gensim_model = owl2vec_star.extract_owl2vec_model(\"./cw_onto.owl\", \"./default.cfg\", True, True, True)\n",
    "\n",
    "output_folder=\"./cache/output/\"\n",
    "\n",
    "#Gensim format\n",
    "gensim_model.save(output_folder+\"ontology.embeddings\")\n",
    "    #Txt format\n",
    "gensim_model.wv.save_word2vec_format(output_folder+\"ontology.embeddings.txt\", binary=False)"
   ]
  },
  {
   "cell_type": "markdown",
   "id": "dd2d06c2",
   "metadata": {},
   "source": [
    "Tried to install the requirements text, but had issues with numpy i believe error message =>\n",
    "https://i.imgur.com/U3GqZXn.png"
   ]
  }
 ],
 "metadata": {
  "interpreter": {
   "hash": "829b5132319cb02f9e2b5e7b212d699c860bb33e0ae6c6e20460b4dbce5eda86"
  },
  "kernelspec": {
   "display_name": "Python 3.9.7 ('base')",
   "language": "python",
   "name": "python3"
  },
  "language_info": {
   "codemirror_mode": {
    "name": "ipython",
    "version": 3
   },
   "file_extension": ".py",
   "mimetype": "text/x-python",
   "name": "python",
   "nbconvert_exporter": "python",
   "pygments_lexer": "ipython3",
   "version": "3.9.7"
  }
 },
 "nbformat": 4,
 "nbformat_minor": 5
}
